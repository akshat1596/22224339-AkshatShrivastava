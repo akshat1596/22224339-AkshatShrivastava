{
  "nbformat": 4,
  "nbformat_minor": 0,
  "metadata": {
    "colab": {
      "provenance": []
    },
    "kernelspec": {
      "name": "python3",
      "display_name": "Python 3"
    },
    "language_info": {
      "name": "python"
    }
  },
  "cells": [
    {
      "cell_type": "code",
      "execution_count": 3,
      "metadata": {
        "colab": {
          "base_uri": "https://localhost:8080/"
        },
        "id": "4ZscTzWq9FhB",
        "outputId": "9af106ea-f2dd-4133-f5ed-922d423392da"
      },
      "outputs": [
        {
          "output_type": "stream",
          "name": "stdout",
          "text": [
            "Drive already mounted at /content/drive; to attempt to forcibly remount, call drive.mount(\"/content/drive\", force_remount=True).\n",
            "Collecting scikit-plot\n",
            "  Downloading scikit_plot-0.3.7-py3-none-any.whl (33 kB)\n",
            "Requirement already satisfied: matplotlib>=1.4.0 in /usr/local/lib/python3.10/dist-packages (from scikit-plot) (3.7.1)\n",
            "Requirement already satisfied: scikit-learn>=0.18 in /usr/local/lib/python3.10/dist-packages (from scikit-plot) (1.2.2)\n",
            "Requirement already satisfied: scipy>=0.9 in /usr/local/lib/python3.10/dist-packages (from scikit-plot) (1.10.1)\n",
            "Requirement already satisfied: joblib>=0.10 in /usr/local/lib/python3.10/dist-packages (from scikit-plot) (1.3.2)\n",
            "Requirement already satisfied: contourpy>=1.0.1 in /usr/local/lib/python3.10/dist-packages (from matplotlib>=1.4.0->scikit-plot) (1.1.0)\n",
            "Requirement already satisfied: cycler>=0.10 in /usr/local/lib/python3.10/dist-packages (from matplotlib>=1.4.0->scikit-plot) (0.11.0)\n",
            "Requirement already satisfied: fonttools>=4.22.0 in /usr/local/lib/python3.10/dist-packages (from matplotlib>=1.4.0->scikit-plot) (4.42.1)\n",
            "Requirement already satisfied: kiwisolver>=1.0.1 in /usr/local/lib/python3.10/dist-packages (from matplotlib>=1.4.0->scikit-plot) (1.4.4)\n",
            "Requirement already satisfied: numpy>=1.20 in /usr/local/lib/python3.10/dist-packages (from matplotlib>=1.4.0->scikit-plot) (1.23.5)\n",
            "Requirement already satisfied: packaging>=20.0 in /usr/local/lib/python3.10/dist-packages (from matplotlib>=1.4.0->scikit-plot) (23.1)\n",
            "Requirement already satisfied: pillow>=6.2.0 in /usr/local/lib/python3.10/dist-packages (from matplotlib>=1.4.0->scikit-plot) (9.4.0)\n",
            "Requirement already satisfied: pyparsing>=2.3.1 in /usr/local/lib/python3.10/dist-packages (from matplotlib>=1.4.0->scikit-plot) (3.1.1)\n",
            "Requirement already satisfied: python-dateutil>=2.7 in /usr/local/lib/python3.10/dist-packages (from matplotlib>=1.4.0->scikit-plot) (2.8.2)\n",
            "Requirement already satisfied: threadpoolctl>=2.0.0 in /usr/local/lib/python3.10/dist-packages (from scikit-learn>=0.18->scikit-plot) (3.2.0)\n",
            "Requirement already satisfied: six>=1.5 in /usr/local/lib/python3.10/dist-packages (from python-dateutil>=2.7->matplotlib>=1.4.0->scikit-plot) (1.16.0)\n",
            "Installing collected packages: scikit-plot\n",
            "Successfully installed scikit-plot-0.3.7\n"
          ]
        }
      ],
      "source": [
        "# Mounting Google Drive\n",
        "from google.colab import drive\n",
        "drive.mount('/content/drive')\n",
        "\n",
        "!pip install scikit-plot"
      ]
    },
    {
      "cell_type": "code",
      "source": [
        "# Loading required libraries\n",
        "\n",
        "import pandas as pd\n",
        "import numpy as np\n",
        "import seaborn as sns\n",
        "import matplotlib.pyplot as plt\n",
        "\n",
        "import numpy as np\n",
        "import tensorflow as tf\n",
        "from datetime import datetime\n",
        "\n",
        "from sklearn.model_selection import train_test_split\n",
        "from sklearn.metrics import confusion_matrix, roc_auc_score, roc_curve, classification_report,auc\n",
        "from sklearn.metrics import precision_recall_curve,roc_auc_score,roc_curve\n",
        "from scikitplot.metrics import plot_confusion_matrix, plot_roc\n",
        "from sklearn.preprocessing import label_binarize\n",
        "\n",
        "from tensorflow.keras.utils import to_categorical\n",
        "from keras.optimizers import Adam\n",
        "from keras.models import Sequential\n",
        "from keras.layers import Conv1D, MaxPool1D, Flatten, Dense, Dropout\n",
        "\n",
        "import pydot\n",
        "import graphviz\n",
        "import random\n",
        "\n",
        "import warnings\n",
        "warnings.filterwarnings('ignore')"
      ],
      "metadata": {
        "id": "fLLk8NhG9hU4"
      },
      "execution_count": 4,
      "outputs": []
    },
    {
      "cell_type": "code",
      "source": [
        "# Read the dataset\n",
        "df_train = pd.read_csv('/content/drive/MyDrive/MIT-BIH Dataset/mitbih_train.csv',header=None)\n",
        "df_train.head()"
      ],
      "metadata": {
        "colab": {
          "base_uri": "https://localhost:8080/",
          "height": 235
        },
        "id": "LaFTj0M69l6X",
        "outputId": "a5baca88-fbe0-4770-941d-409437fbf213"
      },
      "execution_count": 3,
      "outputs": [
        {
          "output_type": "execute_result",
          "data": {
            "text/plain": [
              "        0         1         2         3         4         5         6    \\\n",
              "0  0.977941  0.926471  0.681373  0.245098  0.154412  0.191176  0.151961   \n",
              "1  0.960114  0.863248  0.461538  0.196581  0.094017  0.125356  0.099715   \n",
              "2  1.000000  0.659459  0.186486  0.070270  0.070270  0.059459  0.056757   \n",
              "3  0.925414  0.665746  0.541436  0.276243  0.196133  0.077348  0.071823   \n",
              "4  0.967136  1.000000  0.830986  0.586854  0.356808  0.248826  0.145540   \n",
              "\n",
              "        7         8         9    ...  178  179  180  181  182  183  184  185  \\\n",
              "0  0.085784  0.058824  0.049020  ...  0.0  0.0  0.0  0.0  0.0  0.0  0.0  0.0   \n",
              "1  0.088319  0.074074  0.082621  ...  0.0  0.0  0.0  0.0  0.0  0.0  0.0  0.0   \n",
              "2  0.043243  0.054054  0.045946  ...  0.0  0.0  0.0  0.0  0.0  0.0  0.0  0.0   \n",
              "3  0.060773  0.066298  0.058011  ...  0.0  0.0  0.0  0.0  0.0  0.0  0.0  0.0   \n",
              "4  0.089202  0.117371  0.150235  ...  0.0  0.0  0.0  0.0  0.0  0.0  0.0  0.0   \n",
              "\n",
              "   186  187  \n",
              "0  0.0  0.0  \n",
              "1  0.0  0.0  \n",
              "2  0.0  0.0  \n",
              "3  0.0  0.0  \n",
              "4  0.0  0.0  \n",
              "\n",
              "[5 rows x 188 columns]"
            ],
            "text/html": [
              "\n",
              "  <div id=\"df-b0d286a2-5790-45a4-a796-cb550617a4a6\" class=\"colab-df-container\">\n",
              "    <div>\n",
              "<style scoped>\n",
              "    .dataframe tbody tr th:only-of-type {\n",
              "        vertical-align: middle;\n",
              "    }\n",
              "\n",
              "    .dataframe tbody tr th {\n",
              "        vertical-align: top;\n",
              "    }\n",
              "\n",
              "    .dataframe thead th {\n",
              "        text-align: right;\n",
              "    }\n",
              "</style>\n",
              "<table border=\"1\" class=\"dataframe\">\n",
              "  <thead>\n",
              "    <tr style=\"text-align: right;\">\n",
              "      <th></th>\n",
              "      <th>0</th>\n",
              "      <th>1</th>\n",
              "      <th>2</th>\n",
              "      <th>3</th>\n",
              "      <th>4</th>\n",
              "      <th>5</th>\n",
              "      <th>6</th>\n",
              "      <th>7</th>\n",
              "      <th>8</th>\n",
              "      <th>9</th>\n",
              "      <th>...</th>\n",
              "      <th>178</th>\n",
              "      <th>179</th>\n",
              "      <th>180</th>\n",
              "      <th>181</th>\n",
              "      <th>182</th>\n",
              "      <th>183</th>\n",
              "      <th>184</th>\n",
              "      <th>185</th>\n",
              "      <th>186</th>\n",
              "      <th>187</th>\n",
              "    </tr>\n",
              "  </thead>\n",
              "  <tbody>\n",
              "    <tr>\n",
              "      <th>0</th>\n",
              "      <td>0.977941</td>\n",
              "      <td>0.926471</td>\n",
              "      <td>0.681373</td>\n",
              "      <td>0.245098</td>\n",
              "      <td>0.154412</td>\n",
              "      <td>0.191176</td>\n",
              "      <td>0.151961</td>\n",
              "      <td>0.085784</td>\n",
              "      <td>0.058824</td>\n",
              "      <td>0.049020</td>\n",
              "      <td>...</td>\n",
              "      <td>0.0</td>\n",
              "      <td>0.0</td>\n",
              "      <td>0.0</td>\n",
              "      <td>0.0</td>\n",
              "      <td>0.0</td>\n",
              "      <td>0.0</td>\n",
              "      <td>0.0</td>\n",
              "      <td>0.0</td>\n",
              "      <td>0.0</td>\n",
              "      <td>0.0</td>\n",
              "    </tr>\n",
              "    <tr>\n",
              "      <th>1</th>\n",
              "      <td>0.960114</td>\n",
              "      <td>0.863248</td>\n",
              "      <td>0.461538</td>\n",
              "      <td>0.196581</td>\n",
              "      <td>0.094017</td>\n",
              "      <td>0.125356</td>\n",
              "      <td>0.099715</td>\n",
              "      <td>0.088319</td>\n",
              "      <td>0.074074</td>\n",
              "      <td>0.082621</td>\n",
              "      <td>...</td>\n",
              "      <td>0.0</td>\n",
              "      <td>0.0</td>\n",
              "      <td>0.0</td>\n",
              "      <td>0.0</td>\n",
              "      <td>0.0</td>\n",
              "      <td>0.0</td>\n",
              "      <td>0.0</td>\n",
              "      <td>0.0</td>\n",
              "      <td>0.0</td>\n",
              "      <td>0.0</td>\n",
              "    </tr>\n",
              "    <tr>\n",
              "      <th>2</th>\n",
              "      <td>1.000000</td>\n",
              "      <td>0.659459</td>\n",
              "      <td>0.186486</td>\n",
              "      <td>0.070270</td>\n",
              "      <td>0.070270</td>\n",
              "      <td>0.059459</td>\n",
              "      <td>0.056757</td>\n",
              "      <td>0.043243</td>\n",
              "      <td>0.054054</td>\n",
              "      <td>0.045946</td>\n",
              "      <td>...</td>\n",
              "      <td>0.0</td>\n",
              "      <td>0.0</td>\n",
              "      <td>0.0</td>\n",
              "      <td>0.0</td>\n",
              "      <td>0.0</td>\n",
              "      <td>0.0</td>\n",
              "      <td>0.0</td>\n",
              "      <td>0.0</td>\n",
              "      <td>0.0</td>\n",
              "      <td>0.0</td>\n",
              "    </tr>\n",
              "    <tr>\n",
              "      <th>3</th>\n",
              "      <td>0.925414</td>\n",
              "      <td>0.665746</td>\n",
              "      <td>0.541436</td>\n",
              "      <td>0.276243</td>\n",
              "      <td>0.196133</td>\n",
              "      <td>0.077348</td>\n",
              "      <td>0.071823</td>\n",
              "      <td>0.060773</td>\n",
              "      <td>0.066298</td>\n",
              "      <td>0.058011</td>\n",
              "      <td>...</td>\n",
              "      <td>0.0</td>\n",
              "      <td>0.0</td>\n",
              "      <td>0.0</td>\n",
              "      <td>0.0</td>\n",
              "      <td>0.0</td>\n",
              "      <td>0.0</td>\n",
              "      <td>0.0</td>\n",
              "      <td>0.0</td>\n",
              "      <td>0.0</td>\n",
              "      <td>0.0</td>\n",
              "    </tr>\n",
              "    <tr>\n",
              "      <th>4</th>\n",
              "      <td>0.967136</td>\n",
              "      <td>1.000000</td>\n",
              "      <td>0.830986</td>\n",
              "      <td>0.586854</td>\n",
              "      <td>0.356808</td>\n",
              "      <td>0.248826</td>\n",
              "      <td>0.145540</td>\n",
              "      <td>0.089202</td>\n",
              "      <td>0.117371</td>\n",
              "      <td>0.150235</td>\n",
              "      <td>...</td>\n",
              "      <td>0.0</td>\n",
              "      <td>0.0</td>\n",
              "      <td>0.0</td>\n",
              "      <td>0.0</td>\n",
              "      <td>0.0</td>\n",
              "      <td>0.0</td>\n",
              "      <td>0.0</td>\n",
              "      <td>0.0</td>\n",
              "      <td>0.0</td>\n",
              "      <td>0.0</td>\n",
              "    </tr>\n",
              "  </tbody>\n",
              "</table>\n",
              "<p>5 rows × 188 columns</p>\n",
              "</div>\n",
              "    <div class=\"colab-df-buttons\">\n",
              "\n",
              "  <div class=\"colab-df-container\">\n",
              "    <button class=\"colab-df-convert\" onclick=\"convertToInteractive('df-b0d286a2-5790-45a4-a796-cb550617a4a6')\"\n",
              "            title=\"Convert this dataframe to an interactive table.\"\n",
              "            style=\"display:none;\">\n",
              "\n",
              "  <svg xmlns=\"http://www.w3.org/2000/svg\" height=\"24px\" viewBox=\"0 -960 960 960\">\n",
              "    <path d=\"M120-120v-720h720v720H120Zm60-500h600v-160H180v160Zm220 220h160v-160H400v160Zm0 220h160v-160H400v160ZM180-400h160v-160H180v160Zm440 0h160v-160H620v160ZM180-180h160v-160H180v160Zm440 0h160v-160H620v160Z\"/>\n",
              "  </svg>\n",
              "    </button>\n",
              "\n",
              "  <style>\n",
              "    .colab-df-container {\n",
              "      display:flex;\n",
              "      gap: 12px;\n",
              "    }\n",
              "\n",
              "    .colab-df-convert {\n",
              "      background-color: #E8F0FE;\n",
              "      border: none;\n",
              "      border-radius: 50%;\n",
              "      cursor: pointer;\n",
              "      display: none;\n",
              "      fill: #1967D2;\n",
              "      height: 32px;\n",
              "      padding: 0 0 0 0;\n",
              "      width: 32px;\n",
              "    }\n",
              "\n",
              "    .colab-df-convert:hover {\n",
              "      background-color: #E2EBFA;\n",
              "      box-shadow: 0px 1px 2px rgba(60, 64, 67, 0.3), 0px 1px 3px 1px rgba(60, 64, 67, 0.15);\n",
              "      fill: #174EA6;\n",
              "    }\n",
              "\n",
              "    .colab-df-buttons div {\n",
              "      margin-bottom: 4px;\n",
              "    }\n",
              "\n",
              "    [theme=dark] .colab-df-convert {\n",
              "      background-color: #3B4455;\n",
              "      fill: #D2E3FC;\n",
              "    }\n",
              "\n",
              "    [theme=dark] .colab-df-convert:hover {\n",
              "      background-color: #434B5C;\n",
              "      box-shadow: 0px 1px 3px 1px rgba(0, 0, 0, 0.15);\n",
              "      filter: drop-shadow(0px 1px 2px rgba(0, 0, 0, 0.3));\n",
              "      fill: #FFFFFF;\n",
              "    }\n",
              "  </style>\n",
              "\n",
              "    <script>\n",
              "      const buttonEl =\n",
              "        document.querySelector('#df-b0d286a2-5790-45a4-a796-cb550617a4a6 button.colab-df-convert');\n",
              "      buttonEl.style.display =\n",
              "        google.colab.kernel.accessAllowed ? 'block' : 'none';\n",
              "\n",
              "      async function convertToInteractive(key) {\n",
              "        const element = document.querySelector('#df-b0d286a2-5790-45a4-a796-cb550617a4a6');\n",
              "        const dataTable =\n",
              "          await google.colab.kernel.invokeFunction('convertToInteractive',\n",
              "                                                    [key], {});\n",
              "        if (!dataTable) return;\n",
              "\n",
              "        const docLinkHtml = 'Like what you see? Visit the ' +\n",
              "          '<a target=\"_blank\" href=https://colab.research.google.com/notebooks/data_table.ipynb>data table notebook</a>'\n",
              "          + ' to learn more about interactive tables.';\n",
              "        element.innerHTML = '';\n",
              "        dataTable['output_type'] = 'display_data';\n",
              "        await google.colab.output.renderOutput(dataTable, element);\n",
              "        const docLink = document.createElement('div');\n",
              "        docLink.innerHTML = docLinkHtml;\n",
              "        element.appendChild(docLink);\n",
              "      }\n",
              "    </script>\n",
              "  </div>\n",
              "\n",
              "\n",
              "<div id=\"df-392f6beb-4c7a-4b33-8f7a-c746668df0aa\">\n",
              "  <button class=\"colab-df-quickchart\" onclick=\"quickchart('df-392f6beb-4c7a-4b33-8f7a-c746668df0aa')\"\n",
              "            title=\"Suggest charts.\"\n",
              "            style=\"display:none;\">\n",
              "\n",
              "<svg xmlns=\"http://www.w3.org/2000/svg\" height=\"24px\"viewBox=\"0 0 24 24\"\n",
              "     width=\"24px\">\n",
              "    <g>\n",
              "        <path d=\"M19 3H5c-1.1 0-2 .9-2 2v14c0 1.1.9 2 2 2h14c1.1 0 2-.9 2-2V5c0-1.1-.9-2-2-2zM9 17H7v-7h2v7zm4 0h-2V7h2v10zm4 0h-2v-4h2v4z\"/>\n",
              "    </g>\n",
              "</svg>\n",
              "  </button>\n",
              "\n",
              "<style>\n",
              "  .colab-df-quickchart {\n",
              "    background-color: #E8F0FE;\n",
              "    border: none;\n",
              "    border-radius: 50%;\n",
              "    cursor: pointer;\n",
              "    display: none;\n",
              "    fill: #1967D2;\n",
              "    height: 32px;\n",
              "    padding: 0 0 0 0;\n",
              "    width: 32px;\n",
              "  }\n",
              "\n",
              "  .colab-df-quickchart:hover {\n",
              "    background-color: #E2EBFA;\n",
              "    box-shadow: 0px 1px 2px rgba(60, 64, 67, 0.3), 0px 1px 3px 1px rgba(60, 64, 67, 0.15);\n",
              "    fill: #174EA6;\n",
              "  }\n",
              "\n",
              "  [theme=dark] .colab-df-quickchart {\n",
              "    background-color: #3B4455;\n",
              "    fill: #D2E3FC;\n",
              "  }\n",
              "\n",
              "  [theme=dark] .colab-df-quickchart:hover {\n",
              "    background-color: #434B5C;\n",
              "    box-shadow: 0px 1px 3px 1px rgba(0, 0, 0, 0.15);\n",
              "    filter: drop-shadow(0px 1px 2px rgba(0, 0, 0, 0.3));\n",
              "    fill: #FFFFFF;\n",
              "  }\n",
              "</style>\n",
              "\n",
              "  <script>\n",
              "    async function quickchart(key) {\n",
              "      const charts = await google.colab.kernel.invokeFunction(\n",
              "          'suggestCharts', [key], {});\n",
              "    }\n",
              "    (() => {\n",
              "      let quickchartButtonEl =\n",
              "        document.querySelector('#df-392f6beb-4c7a-4b33-8f7a-c746668df0aa button');\n",
              "      quickchartButtonEl.style.display =\n",
              "        google.colab.kernel.accessAllowed ? 'block' : 'none';\n",
              "    })();\n",
              "  </script>\n",
              "</div>\n",
              "    </div>\n",
              "  </div>\n"
            ]
          },
          "metadata": {},
          "execution_count": 3
        }
      ]
    },
    {
      "cell_type": "code",
      "source": [
        "df_train.shape"
      ],
      "metadata": {
        "colab": {
          "base_uri": "https://localhost:8080/"
        },
        "id": "kV_7i5GI9sjO",
        "outputId": "02bd2d10-e65d-4f7b-890a-699936c15504"
      },
      "execution_count": 4,
      "outputs": [
        {
          "output_type": "execute_result",
          "data": {
            "text/plain": [
              "(87554, 188)"
            ]
          },
          "metadata": {},
          "execution_count": 4
        }
      ]
    },
    {
      "cell_type": "code",
      "source": [
        "df_train[187].unique()"
      ],
      "metadata": {
        "colab": {
          "base_uri": "https://localhost:8080/"
        },
        "id": "av1QCciS9xhX",
        "outputId": "8416514f-b499-486f-d6ee-96b108792c38"
      },
      "execution_count": 5,
      "outputs": [
        {
          "output_type": "execute_result",
          "data": {
            "text/plain": [
              "array([0., 1., 2., 3., 4.])"
            ]
          },
          "metadata": {},
          "execution_count": 5
        }
      ]
    },
    {
      "cell_type": "code",
      "source": [
        "class_names = ['N','S','V','F','Q']"
      ],
      "metadata": {
        "id": "Pac5YmMS9z-D"
      },
      "execution_count": 6,
      "outputs": []
    },
    {
      "cell_type": "code",
      "source": [
        "df_test = pd.read_csv('/content/drive/MyDrive/MIT-BIH Dataset/mitbih_test.csv', header=None)"
      ],
      "metadata": {
        "id": "CdJUfRE595R2"
      },
      "execution_count": 7,
      "outputs": []
    },
    {
      "cell_type": "code",
      "source": [
        "df_test.shape"
      ],
      "metadata": {
        "colab": {
          "base_uri": "https://localhost:8080/"
        },
        "id": "sTul3fyd95da",
        "outputId": "16229ce5-9f9c-4f3f-eb30-6f466b2629e7"
      },
      "execution_count": 8,
      "outputs": [
        {
          "output_type": "execute_result",
          "data": {
            "text/plain": [
              "(21892, 188)"
            ]
          },
          "metadata": {},
          "execution_count": 8
        }
      ]
    },
    {
      "cell_type": "code",
      "source": [
        "df_test[187].unique()"
      ],
      "metadata": {
        "colab": {
          "base_uri": "https://localhost:8080/"
        },
        "id": "hck3jnra992e",
        "outputId": "0682bdbc-221e-48f9-98b0-eba5db150482"
      },
      "execution_count": 9,
      "outputs": [
        {
          "output_type": "execute_result",
          "data": {
            "text/plain": [
              "array([0., 1., 2., 3., 4.])"
            ]
          },
          "metadata": {},
          "execution_count": 9
        }
      ]
    },
    {
      "cell_type": "code",
      "source": [
        "df_train = df_train.rename(columns = {187 : 'label'})\n",
        "df_test = df_test.rename(columns = {187 : 'label'})"
      ],
      "metadata": {
        "id": "7_7-cb52oLaO"
      },
      "execution_count": 10,
      "outputs": []
    },
    {
      "cell_type": "code",
      "source": [
        "\n",
        "df_train['label'] = df_train['label'].astype('uint8')\n",
        "df_test['label'] = df_test['label'].astype('uint8')"
      ],
      "metadata": {
        "id": "ftY7NcdloOeS"
      },
      "execution_count": 11,
      "outputs": []
    },
    {
      "cell_type": "code",
      "source": [
        "df_train.head()"
      ],
      "metadata": {
        "colab": {
          "base_uri": "https://localhost:8080/",
          "height": 235
        },
        "id": "Q-dscXQ_oRnn",
        "outputId": "85fa891c-17a6-4d7e-c1c3-135210fa2d90"
      },
      "execution_count": 12,
      "outputs": [
        {
          "output_type": "execute_result",
          "data": {
            "text/plain": [
              "          0         1         2         3         4         5         6  \\\n",
              "0  0.977941  0.926471  0.681373  0.245098  0.154412  0.191176  0.151961   \n",
              "1  0.960114  0.863248  0.461538  0.196581  0.094017  0.125356  0.099715   \n",
              "2  1.000000  0.659459  0.186486  0.070270  0.070270  0.059459  0.056757   \n",
              "3  0.925414  0.665746  0.541436  0.276243  0.196133  0.077348  0.071823   \n",
              "4  0.967136  1.000000  0.830986  0.586854  0.356808  0.248826  0.145540   \n",
              "\n",
              "          7         8         9  ...  178  179  180  181  182  183  184  185  \\\n",
              "0  0.085784  0.058824  0.049020  ...  0.0  0.0  0.0  0.0  0.0  0.0  0.0  0.0   \n",
              "1  0.088319  0.074074  0.082621  ...  0.0  0.0  0.0  0.0  0.0  0.0  0.0  0.0   \n",
              "2  0.043243  0.054054  0.045946  ...  0.0  0.0  0.0  0.0  0.0  0.0  0.0  0.0   \n",
              "3  0.060773  0.066298  0.058011  ...  0.0  0.0  0.0  0.0  0.0  0.0  0.0  0.0   \n",
              "4  0.089202  0.117371  0.150235  ...  0.0  0.0  0.0  0.0  0.0  0.0  0.0  0.0   \n",
              "\n",
              "   186  label  \n",
              "0  0.0      0  \n",
              "1  0.0      0  \n",
              "2  0.0      0  \n",
              "3  0.0      0  \n",
              "4  0.0      0  \n",
              "\n",
              "[5 rows x 188 columns]"
            ],
            "text/html": [
              "\n",
              "  <div id=\"df-8d31366b-e436-4004-8a88-6b84d210f9ba\" class=\"colab-df-container\">\n",
              "    <div>\n",
              "<style scoped>\n",
              "    .dataframe tbody tr th:only-of-type {\n",
              "        vertical-align: middle;\n",
              "    }\n",
              "\n",
              "    .dataframe tbody tr th {\n",
              "        vertical-align: top;\n",
              "    }\n",
              "\n",
              "    .dataframe thead th {\n",
              "        text-align: right;\n",
              "    }\n",
              "</style>\n",
              "<table border=\"1\" class=\"dataframe\">\n",
              "  <thead>\n",
              "    <tr style=\"text-align: right;\">\n",
              "      <th></th>\n",
              "      <th>0</th>\n",
              "      <th>1</th>\n",
              "      <th>2</th>\n",
              "      <th>3</th>\n",
              "      <th>4</th>\n",
              "      <th>5</th>\n",
              "      <th>6</th>\n",
              "      <th>7</th>\n",
              "      <th>8</th>\n",
              "      <th>9</th>\n",
              "      <th>...</th>\n",
              "      <th>178</th>\n",
              "      <th>179</th>\n",
              "      <th>180</th>\n",
              "      <th>181</th>\n",
              "      <th>182</th>\n",
              "      <th>183</th>\n",
              "      <th>184</th>\n",
              "      <th>185</th>\n",
              "      <th>186</th>\n",
              "      <th>label</th>\n",
              "    </tr>\n",
              "  </thead>\n",
              "  <tbody>\n",
              "    <tr>\n",
              "      <th>0</th>\n",
              "      <td>0.977941</td>\n",
              "      <td>0.926471</td>\n",
              "      <td>0.681373</td>\n",
              "      <td>0.245098</td>\n",
              "      <td>0.154412</td>\n",
              "      <td>0.191176</td>\n",
              "      <td>0.151961</td>\n",
              "      <td>0.085784</td>\n",
              "      <td>0.058824</td>\n",
              "      <td>0.049020</td>\n",
              "      <td>...</td>\n",
              "      <td>0.0</td>\n",
              "      <td>0.0</td>\n",
              "      <td>0.0</td>\n",
              "      <td>0.0</td>\n",
              "      <td>0.0</td>\n",
              "      <td>0.0</td>\n",
              "      <td>0.0</td>\n",
              "      <td>0.0</td>\n",
              "      <td>0.0</td>\n",
              "      <td>0</td>\n",
              "    </tr>\n",
              "    <tr>\n",
              "      <th>1</th>\n",
              "      <td>0.960114</td>\n",
              "      <td>0.863248</td>\n",
              "      <td>0.461538</td>\n",
              "      <td>0.196581</td>\n",
              "      <td>0.094017</td>\n",
              "      <td>0.125356</td>\n",
              "      <td>0.099715</td>\n",
              "      <td>0.088319</td>\n",
              "      <td>0.074074</td>\n",
              "      <td>0.082621</td>\n",
              "      <td>...</td>\n",
              "      <td>0.0</td>\n",
              "      <td>0.0</td>\n",
              "      <td>0.0</td>\n",
              "      <td>0.0</td>\n",
              "      <td>0.0</td>\n",
              "      <td>0.0</td>\n",
              "      <td>0.0</td>\n",
              "      <td>0.0</td>\n",
              "      <td>0.0</td>\n",
              "      <td>0</td>\n",
              "    </tr>\n",
              "    <tr>\n",
              "      <th>2</th>\n",
              "      <td>1.000000</td>\n",
              "      <td>0.659459</td>\n",
              "      <td>0.186486</td>\n",
              "      <td>0.070270</td>\n",
              "      <td>0.070270</td>\n",
              "      <td>0.059459</td>\n",
              "      <td>0.056757</td>\n",
              "      <td>0.043243</td>\n",
              "      <td>0.054054</td>\n",
              "      <td>0.045946</td>\n",
              "      <td>...</td>\n",
              "      <td>0.0</td>\n",
              "      <td>0.0</td>\n",
              "      <td>0.0</td>\n",
              "      <td>0.0</td>\n",
              "      <td>0.0</td>\n",
              "      <td>0.0</td>\n",
              "      <td>0.0</td>\n",
              "      <td>0.0</td>\n",
              "      <td>0.0</td>\n",
              "      <td>0</td>\n",
              "    </tr>\n",
              "    <tr>\n",
              "      <th>3</th>\n",
              "      <td>0.925414</td>\n",
              "      <td>0.665746</td>\n",
              "      <td>0.541436</td>\n",
              "      <td>0.276243</td>\n",
              "      <td>0.196133</td>\n",
              "      <td>0.077348</td>\n",
              "      <td>0.071823</td>\n",
              "      <td>0.060773</td>\n",
              "      <td>0.066298</td>\n",
              "      <td>0.058011</td>\n",
              "      <td>...</td>\n",
              "      <td>0.0</td>\n",
              "      <td>0.0</td>\n",
              "      <td>0.0</td>\n",
              "      <td>0.0</td>\n",
              "      <td>0.0</td>\n",
              "      <td>0.0</td>\n",
              "      <td>0.0</td>\n",
              "      <td>0.0</td>\n",
              "      <td>0.0</td>\n",
              "      <td>0</td>\n",
              "    </tr>\n",
              "    <tr>\n",
              "      <th>4</th>\n",
              "      <td>0.967136</td>\n",
              "      <td>1.000000</td>\n",
              "      <td>0.830986</td>\n",
              "      <td>0.586854</td>\n",
              "      <td>0.356808</td>\n",
              "      <td>0.248826</td>\n",
              "      <td>0.145540</td>\n",
              "      <td>0.089202</td>\n",
              "      <td>0.117371</td>\n",
              "      <td>0.150235</td>\n",
              "      <td>...</td>\n",
              "      <td>0.0</td>\n",
              "      <td>0.0</td>\n",
              "      <td>0.0</td>\n",
              "      <td>0.0</td>\n",
              "      <td>0.0</td>\n",
              "      <td>0.0</td>\n",
              "      <td>0.0</td>\n",
              "      <td>0.0</td>\n",
              "      <td>0.0</td>\n",
              "      <td>0</td>\n",
              "    </tr>\n",
              "  </tbody>\n",
              "</table>\n",
              "<p>5 rows × 188 columns</p>\n",
              "</div>\n",
              "    <div class=\"colab-df-buttons\">\n",
              "\n",
              "  <div class=\"colab-df-container\">\n",
              "    <button class=\"colab-df-convert\" onclick=\"convertToInteractive('df-8d31366b-e436-4004-8a88-6b84d210f9ba')\"\n",
              "            title=\"Convert this dataframe to an interactive table.\"\n",
              "            style=\"display:none;\">\n",
              "\n",
              "  <svg xmlns=\"http://www.w3.org/2000/svg\" height=\"24px\" viewBox=\"0 -960 960 960\">\n",
              "    <path d=\"M120-120v-720h720v720H120Zm60-500h600v-160H180v160Zm220 220h160v-160H400v160Zm0 220h160v-160H400v160ZM180-400h160v-160H180v160Zm440 0h160v-160H620v160ZM180-180h160v-160H180v160Zm440 0h160v-160H620v160Z\"/>\n",
              "  </svg>\n",
              "    </button>\n",
              "\n",
              "  <style>\n",
              "    .colab-df-container {\n",
              "      display:flex;\n",
              "      gap: 12px;\n",
              "    }\n",
              "\n",
              "    .colab-df-convert {\n",
              "      background-color: #E8F0FE;\n",
              "      border: none;\n",
              "      border-radius: 50%;\n",
              "      cursor: pointer;\n",
              "      display: none;\n",
              "      fill: #1967D2;\n",
              "      height: 32px;\n",
              "      padding: 0 0 0 0;\n",
              "      width: 32px;\n",
              "    }\n",
              "\n",
              "    .colab-df-convert:hover {\n",
              "      background-color: #E2EBFA;\n",
              "      box-shadow: 0px 1px 2px rgba(60, 64, 67, 0.3), 0px 1px 3px 1px rgba(60, 64, 67, 0.15);\n",
              "      fill: #174EA6;\n",
              "    }\n",
              "\n",
              "    .colab-df-buttons div {\n",
              "      margin-bottom: 4px;\n",
              "    }\n",
              "\n",
              "    [theme=dark] .colab-df-convert {\n",
              "      background-color: #3B4455;\n",
              "      fill: #D2E3FC;\n",
              "    }\n",
              "\n",
              "    [theme=dark] .colab-df-convert:hover {\n",
              "      background-color: #434B5C;\n",
              "      box-shadow: 0px 1px 3px 1px rgba(0, 0, 0, 0.15);\n",
              "      filter: drop-shadow(0px 1px 2px rgba(0, 0, 0, 0.3));\n",
              "      fill: #FFFFFF;\n",
              "    }\n",
              "  </style>\n",
              "\n",
              "    <script>\n",
              "      const buttonEl =\n",
              "        document.querySelector('#df-8d31366b-e436-4004-8a88-6b84d210f9ba button.colab-df-convert');\n",
              "      buttonEl.style.display =\n",
              "        google.colab.kernel.accessAllowed ? 'block' : 'none';\n",
              "\n",
              "      async function convertToInteractive(key) {\n",
              "        const element = document.querySelector('#df-8d31366b-e436-4004-8a88-6b84d210f9ba');\n",
              "        const dataTable =\n",
              "          await google.colab.kernel.invokeFunction('convertToInteractive',\n",
              "                                                    [key], {});\n",
              "        if (!dataTable) return;\n",
              "\n",
              "        const docLinkHtml = 'Like what you see? Visit the ' +\n",
              "          '<a target=\"_blank\" href=https://colab.research.google.com/notebooks/data_table.ipynb>data table notebook</a>'\n",
              "          + ' to learn more about interactive tables.';\n",
              "        element.innerHTML = '';\n",
              "        dataTable['output_type'] = 'display_data';\n",
              "        await google.colab.output.renderOutput(dataTable, element);\n",
              "        const docLink = document.createElement('div');\n",
              "        docLink.innerHTML = docLinkHtml;\n",
              "        element.appendChild(docLink);\n",
              "      }\n",
              "    </script>\n",
              "  </div>\n",
              "\n",
              "\n",
              "<div id=\"df-155a4ac7-c8eb-4581-9b99-5e91ff887acf\">\n",
              "  <button class=\"colab-df-quickchart\" onclick=\"quickchart('df-155a4ac7-c8eb-4581-9b99-5e91ff887acf')\"\n",
              "            title=\"Suggest charts.\"\n",
              "            style=\"display:none;\">\n",
              "\n",
              "<svg xmlns=\"http://www.w3.org/2000/svg\" height=\"24px\"viewBox=\"0 0 24 24\"\n",
              "     width=\"24px\">\n",
              "    <g>\n",
              "        <path d=\"M19 3H5c-1.1 0-2 .9-2 2v14c0 1.1.9 2 2 2h14c1.1 0 2-.9 2-2V5c0-1.1-.9-2-2-2zM9 17H7v-7h2v7zm4 0h-2V7h2v10zm4 0h-2v-4h2v4z\"/>\n",
              "    </g>\n",
              "</svg>\n",
              "  </button>\n",
              "\n",
              "<style>\n",
              "  .colab-df-quickchart {\n",
              "    background-color: #E8F0FE;\n",
              "    border: none;\n",
              "    border-radius: 50%;\n",
              "    cursor: pointer;\n",
              "    display: none;\n",
              "    fill: #1967D2;\n",
              "    height: 32px;\n",
              "    padding: 0 0 0 0;\n",
              "    width: 32px;\n",
              "  }\n",
              "\n",
              "  .colab-df-quickchart:hover {\n",
              "    background-color: #E2EBFA;\n",
              "    box-shadow: 0px 1px 2px rgba(60, 64, 67, 0.3), 0px 1px 3px 1px rgba(60, 64, 67, 0.15);\n",
              "    fill: #174EA6;\n",
              "  }\n",
              "\n",
              "  [theme=dark] .colab-df-quickchart {\n",
              "    background-color: #3B4455;\n",
              "    fill: #D2E3FC;\n",
              "  }\n",
              "\n",
              "  [theme=dark] .colab-df-quickchart:hover {\n",
              "    background-color: #434B5C;\n",
              "    box-shadow: 0px 1px 3px 1px rgba(0, 0, 0, 0.15);\n",
              "    filter: drop-shadow(0px 1px 2px rgba(0, 0, 0, 0.3));\n",
              "    fill: #FFFFFF;\n",
              "  }\n",
              "</style>\n",
              "\n",
              "  <script>\n",
              "    async function quickchart(key) {\n",
              "      const charts = await google.colab.kernel.invokeFunction(\n",
              "          'suggestCharts', [key], {});\n",
              "    }\n",
              "    (() => {\n",
              "      let quickchartButtonEl =\n",
              "        document.querySelector('#df-155a4ac7-c8eb-4581-9b99-5e91ff887acf button');\n",
              "      quickchartButtonEl.style.display =\n",
              "        google.colab.kernel.accessAllowed ? 'block' : 'none';\n",
              "    })();\n",
              "  </script>\n",
              "</div>\n",
              "    </div>\n",
              "  </div>\n"
            ]
          },
          "metadata": {},
          "execution_count": 12
        }
      ]
    },
    {
      "cell_type": "code",
      "source": [
        "df_test.head()"
      ],
      "metadata": {
        "colab": {
          "base_uri": "https://localhost:8080/",
          "height": 235
        },
        "id": "S8W_BtkeoS-3",
        "outputId": "8cf8424b-fd37-4d6e-f2dd-fda49490f8f8"
      },
      "execution_count": 13,
      "outputs": [
        {
          "output_type": "execute_result",
          "data": {
            "text/plain": [
              "          0         1         2         3         4         5         6  \\\n",
              "0  1.000000  0.758264  0.111570  0.000000  0.080579  0.078512  0.066116   \n",
              "1  0.908425  0.783883  0.531136  0.362637  0.366300  0.344322  0.333333   \n",
              "2  0.730088  0.212389  0.000000  0.119469  0.101770  0.101770  0.110619   \n",
              "3  1.000000  0.910417  0.681250  0.472917  0.229167  0.068750  0.000000   \n",
              "4  0.570470  0.399329  0.238255  0.147651  0.000000  0.003356  0.040268   \n",
              "\n",
              "          7         8         9  ...  178  179  180  181  182  183  184  185  \\\n",
              "0  0.049587  0.047521  0.035124  ...  0.0  0.0  0.0  0.0  0.0  0.0  0.0  0.0   \n",
              "1  0.307692  0.296703  0.300366  ...  0.0  0.0  0.0  0.0  0.0  0.0  0.0  0.0   \n",
              "2  0.123894  0.115044  0.132743  ...  0.0  0.0  0.0  0.0  0.0  0.0  0.0  0.0   \n",
              "3  0.004167  0.014583  0.054167  ...  0.0  0.0  0.0  0.0  0.0  0.0  0.0  0.0   \n",
              "4  0.080537  0.070470  0.090604  ...  0.0  0.0  0.0  0.0  0.0  0.0  0.0  0.0   \n",
              "\n",
              "   186  label  \n",
              "0  0.0      0  \n",
              "1  0.0      0  \n",
              "2  0.0      0  \n",
              "3  0.0      0  \n",
              "4  0.0      0  \n",
              "\n",
              "[5 rows x 188 columns]"
            ],
            "text/html": [
              "\n",
              "  <div id=\"df-8781cafd-1c48-4e07-9c22-90d2ad0d1036\" class=\"colab-df-container\">\n",
              "    <div>\n",
              "<style scoped>\n",
              "    .dataframe tbody tr th:only-of-type {\n",
              "        vertical-align: middle;\n",
              "    }\n",
              "\n",
              "    .dataframe tbody tr th {\n",
              "        vertical-align: top;\n",
              "    }\n",
              "\n",
              "    .dataframe thead th {\n",
              "        text-align: right;\n",
              "    }\n",
              "</style>\n",
              "<table border=\"1\" class=\"dataframe\">\n",
              "  <thead>\n",
              "    <tr style=\"text-align: right;\">\n",
              "      <th></th>\n",
              "      <th>0</th>\n",
              "      <th>1</th>\n",
              "      <th>2</th>\n",
              "      <th>3</th>\n",
              "      <th>4</th>\n",
              "      <th>5</th>\n",
              "      <th>6</th>\n",
              "      <th>7</th>\n",
              "      <th>8</th>\n",
              "      <th>9</th>\n",
              "      <th>...</th>\n",
              "      <th>178</th>\n",
              "      <th>179</th>\n",
              "      <th>180</th>\n",
              "      <th>181</th>\n",
              "      <th>182</th>\n",
              "      <th>183</th>\n",
              "      <th>184</th>\n",
              "      <th>185</th>\n",
              "      <th>186</th>\n",
              "      <th>label</th>\n",
              "    </tr>\n",
              "  </thead>\n",
              "  <tbody>\n",
              "    <tr>\n",
              "      <th>0</th>\n",
              "      <td>1.000000</td>\n",
              "      <td>0.758264</td>\n",
              "      <td>0.111570</td>\n",
              "      <td>0.000000</td>\n",
              "      <td>0.080579</td>\n",
              "      <td>0.078512</td>\n",
              "      <td>0.066116</td>\n",
              "      <td>0.049587</td>\n",
              "      <td>0.047521</td>\n",
              "      <td>0.035124</td>\n",
              "      <td>...</td>\n",
              "      <td>0.0</td>\n",
              "      <td>0.0</td>\n",
              "      <td>0.0</td>\n",
              "      <td>0.0</td>\n",
              "      <td>0.0</td>\n",
              "      <td>0.0</td>\n",
              "      <td>0.0</td>\n",
              "      <td>0.0</td>\n",
              "      <td>0.0</td>\n",
              "      <td>0</td>\n",
              "    </tr>\n",
              "    <tr>\n",
              "      <th>1</th>\n",
              "      <td>0.908425</td>\n",
              "      <td>0.783883</td>\n",
              "      <td>0.531136</td>\n",
              "      <td>0.362637</td>\n",
              "      <td>0.366300</td>\n",
              "      <td>0.344322</td>\n",
              "      <td>0.333333</td>\n",
              "      <td>0.307692</td>\n",
              "      <td>0.296703</td>\n",
              "      <td>0.300366</td>\n",
              "      <td>...</td>\n",
              "      <td>0.0</td>\n",
              "      <td>0.0</td>\n",
              "      <td>0.0</td>\n",
              "      <td>0.0</td>\n",
              "      <td>0.0</td>\n",
              "      <td>0.0</td>\n",
              "      <td>0.0</td>\n",
              "      <td>0.0</td>\n",
              "      <td>0.0</td>\n",
              "      <td>0</td>\n",
              "    </tr>\n",
              "    <tr>\n",
              "      <th>2</th>\n",
              "      <td>0.730088</td>\n",
              "      <td>0.212389</td>\n",
              "      <td>0.000000</td>\n",
              "      <td>0.119469</td>\n",
              "      <td>0.101770</td>\n",
              "      <td>0.101770</td>\n",
              "      <td>0.110619</td>\n",
              "      <td>0.123894</td>\n",
              "      <td>0.115044</td>\n",
              "      <td>0.132743</td>\n",
              "      <td>...</td>\n",
              "      <td>0.0</td>\n",
              "      <td>0.0</td>\n",
              "      <td>0.0</td>\n",
              "      <td>0.0</td>\n",
              "      <td>0.0</td>\n",
              "      <td>0.0</td>\n",
              "      <td>0.0</td>\n",
              "      <td>0.0</td>\n",
              "      <td>0.0</td>\n",
              "      <td>0</td>\n",
              "    </tr>\n",
              "    <tr>\n",
              "      <th>3</th>\n",
              "      <td>1.000000</td>\n",
              "      <td>0.910417</td>\n",
              "      <td>0.681250</td>\n",
              "      <td>0.472917</td>\n",
              "      <td>0.229167</td>\n",
              "      <td>0.068750</td>\n",
              "      <td>0.000000</td>\n",
              "      <td>0.004167</td>\n",
              "      <td>0.014583</td>\n",
              "      <td>0.054167</td>\n",
              "      <td>...</td>\n",
              "      <td>0.0</td>\n",
              "      <td>0.0</td>\n",
              "      <td>0.0</td>\n",
              "      <td>0.0</td>\n",
              "      <td>0.0</td>\n",
              "      <td>0.0</td>\n",
              "      <td>0.0</td>\n",
              "      <td>0.0</td>\n",
              "      <td>0.0</td>\n",
              "      <td>0</td>\n",
              "    </tr>\n",
              "    <tr>\n",
              "      <th>4</th>\n",
              "      <td>0.570470</td>\n",
              "      <td>0.399329</td>\n",
              "      <td>0.238255</td>\n",
              "      <td>0.147651</td>\n",
              "      <td>0.000000</td>\n",
              "      <td>0.003356</td>\n",
              "      <td>0.040268</td>\n",
              "      <td>0.080537</td>\n",
              "      <td>0.070470</td>\n",
              "      <td>0.090604</td>\n",
              "      <td>...</td>\n",
              "      <td>0.0</td>\n",
              "      <td>0.0</td>\n",
              "      <td>0.0</td>\n",
              "      <td>0.0</td>\n",
              "      <td>0.0</td>\n",
              "      <td>0.0</td>\n",
              "      <td>0.0</td>\n",
              "      <td>0.0</td>\n",
              "      <td>0.0</td>\n",
              "      <td>0</td>\n",
              "    </tr>\n",
              "  </tbody>\n",
              "</table>\n",
              "<p>5 rows × 188 columns</p>\n",
              "</div>\n",
              "    <div class=\"colab-df-buttons\">\n",
              "\n",
              "  <div class=\"colab-df-container\">\n",
              "    <button class=\"colab-df-convert\" onclick=\"convertToInteractive('df-8781cafd-1c48-4e07-9c22-90d2ad0d1036')\"\n",
              "            title=\"Convert this dataframe to an interactive table.\"\n",
              "            style=\"display:none;\">\n",
              "\n",
              "  <svg xmlns=\"http://www.w3.org/2000/svg\" height=\"24px\" viewBox=\"0 -960 960 960\">\n",
              "    <path d=\"M120-120v-720h720v720H120Zm60-500h600v-160H180v160Zm220 220h160v-160H400v160Zm0 220h160v-160H400v160ZM180-400h160v-160H180v160Zm440 0h160v-160H620v160ZM180-180h160v-160H180v160Zm440 0h160v-160H620v160Z\"/>\n",
              "  </svg>\n",
              "    </button>\n",
              "\n",
              "  <style>\n",
              "    .colab-df-container {\n",
              "      display:flex;\n",
              "      gap: 12px;\n",
              "    }\n",
              "\n",
              "    .colab-df-convert {\n",
              "      background-color: #E8F0FE;\n",
              "      border: none;\n",
              "      border-radius: 50%;\n",
              "      cursor: pointer;\n",
              "      display: none;\n",
              "      fill: #1967D2;\n",
              "      height: 32px;\n",
              "      padding: 0 0 0 0;\n",
              "      width: 32px;\n",
              "    }\n",
              "\n",
              "    .colab-df-convert:hover {\n",
              "      background-color: #E2EBFA;\n",
              "      box-shadow: 0px 1px 2px rgba(60, 64, 67, 0.3), 0px 1px 3px 1px rgba(60, 64, 67, 0.15);\n",
              "      fill: #174EA6;\n",
              "    }\n",
              "\n",
              "    .colab-df-buttons div {\n",
              "      margin-bottom: 4px;\n",
              "    }\n",
              "\n",
              "    [theme=dark] .colab-df-convert {\n",
              "      background-color: #3B4455;\n",
              "      fill: #D2E3FC;\n",
              "    }\n",
              "\n",
              "    [theme=dark] .colab-df-convert:hover {\n",
              "      background-color: #434B5C;\n",
              "      box-shadow: 0px 1px 3px 1px rgba(0, 0, 0, 0.15);\n",
              "      filter: drop-shadow(0px 1px 2px rgba(0, 0, 0, 0.3));\n",
              "      fill: #FFFFFF;\n",
              "    }\n",
              "  </style>\n",
              "\n",
              "    <script>\n",
              "      const buttonEl =\n",
              "        document.querySelector('#df-8781cafd-1c48-4e07-9c22-90d2ad0d1036 button.colab-df-convert');\n",
              "      buttonEl.style.display =\n",
              "        google.colab.kernel.accessAllowed ? 'block' : 'none';\n",
              "\n",
              "      async function convertToInteractive(key) {\n",
              "        const element = document.querySelector('#df-8781cafd-1c48-4e07-9c22-90d2ad0d1036');\n",
              "        const dataTable =\n",
              "          await google.colab.kernel.invokeFunction('convertToInteractive',\n",
              "                                                    [key], {});\n",
              "        if (!dataTable) return;\n",
              "\n",
              "        const docLinkHtml = 'Like what you see? Visit the ' +\n",
              "          '<a target=\"_blank\" href=https://colab.research.google.com/notebooks/data_table.ipynb>data table notebook</a>'\n",
              "          + ' to learn more about interactive tables.';\n",
              "        element.innerHTML = '';\n",
              "        dataTable['output_type'] = 'display_data';\n",
              "        await google.colab.output.renderOutput(dataTable, element);\n",
              "        const docLink = document.createElement('div');\n",
              "        docLink.innerHTML = docLinkHtml;\n",
              "        element.appendChild(docLink);\n",
              "      }\n",
              "    </script>\n",
              "  </div>\n",
              "\n",
              "\n",
              "<div id=\"df-4b0a102b-1cf8-4c88-8bf0-5f72610a7232\">\n",
              "  <button class=\"colab-df-quickchart\" onclick=\"quickchart('df-4b0a102b-1cf8-4c88-8bf0-5f72610a7232')\"\n",
              "            title=\"Suggest charts.\"\n",
              "            style=\"display:none;\">\n",
              "\n",
              "<svg xmlns=\"http://www.w3.org/2000/svg\" height=\"24px\"viewBox=\"0 0 24 24\"\n",
              "     width=\"24px\">\n",
              "    <g>\n",
              "        <path d=\"M19 3H5c-1.1 0-2 .9-2 2v14c0 1.1.9 2 2 2h14c1.1 0 2-.9 2-2V5c0-1.1-.9-2-2-2zM9 17H7v-7h2v7zm4 0h-2V7h2v10zm4 0h-2v-4h2v4z\"/>\n",
              "    </g>\n",
              "</svg>\n",
              "  </button>\n",
              "\n",
              "<style>\n",
              "  .colab-df-quickchart {\n",
              "    background-color: #E8F0FE;\n",
              "    border: none;\n",
              "    border-radius: 50%;\n",
              "    cursor: pointer;\n",
              "    display: none;\n",
              "    fill: #1967D2;\n",
              "    height: 32px;\n",
              "    padding: 0 0 0 0;\n",
              "    width: 32px;\n",
              "  }\n",
              "\n",
              "  .colab-df-quickchart:hover {\n",
              "    background-color: #E2EBFA;\n",
              "    box-shadow: 0px 1px 2px rgba(60, 64, 67, 0.3), 0px 1px 3px 1px rgba(60, 64, 67, 0.15);\n",
              "    fill: #174EA6;\n",
              "  }\n",
              "\n",
              "  [theme=dark] .colab-df-quickchart {\n",
              "    background-color: #3B4455;\n",
              "    fill: #D2E3FC;\n",
              "  }\n",
              "\n",
              "  [theme=dark] .colab-df-quickchart:hover {\n",
              "    background-color: #434B5C;\n",
              "    box-shadow: 0px 1px 3px 1px rgba(0, 0, 0, 0.15);\n",
              "    filter: drop-shadow(0px 1px 2px rgba(0, 0, 0, 0.3));\n",
              "    fill: #FFFFFF;\n",
              "  }\n",
              "</style>\n",
              "\n",
              "  <script>\n",
              "    async function quickchart(key) {\n",
              "      const charts = await google.colab.kernel.invokeFunction(\n",
              "          'suggestCharts', [key], {});\n",
              "    }\n",
              "    (() => {\n",
              "      let quickchartButtonEl =\n",
              "        document.querySelector('#df-4b0a102b-1cf8-4c88-8bf0-5f72610a7232 button');\n",
              "      quickchartButtonEl.style.display =\n",
              "        google.colab.kernel.accessAllowed ? 'block' : 'none';\n",
              "    })();\n",
              "  </script>\n",
              "</div>\n",
              "    </div>\n",
              "  </div>\n"
            ]
          },
          "metadata": {},
          "execution_count": 13
        }
      ]
    },
    {
      "cell_type": "code",
      "source": [
        "df_train.shape\n",
        "df_test.shape"
      ],
      "metadata": {
        "colab": {
          "base_uri": "https://localhost:8080/"
        },
        "id": "pJn4AmudpSCn",
        "outputId": "8c05fdcb-89bf-4092-aaac-b23c745fad4a"
      },
      "execution_count": 14,
      "outputs": [
        {
          "output_type": "execute_result",
          "data": {
            "text/plain": [
              "(21892, 188)"
            ]
          },
          "metadata": {},
          "execution_count": 14
        }
      ]
    },
    {
      "cell_type": "code",
      "source": [
        "#classes count\n",
        "df_class=df_train['label'].value_counts()\n",
        "print('Count of classes :\\n',df_class)\n",
        "#Percentages of class counts\n",
        "per_class=df_train['label'].value_counts()/len(df_train)*100\n",
        "print('percentage of count of classes :\\n',per_class)"
      ],
      "metadata": {
        "colab": {
          "base_uri": "https://localhost:8080/"
        },
        "id": "FEM4W2L_pg8A",
        "outputId": "00986ac0-dc2d-4540-f729-40af483a7b47"
      },
      "execution_count": 15,
      "outputs": [
        {
          "output_type": "stream",
          "name": "stdout",
          "text": [
            "Count of classes :\n",
            " 0    72471\n",
            "4     6431\n",
            "2     5788\n",
            "1     2223\n",
            "3      641\n",
            "Name: label, dtype: int64\n",
            "percentage of count of classes :\n",
            " 0    82.772917\n",
            "4     7.345181\n",
            "2     6.610777\n",
            "1     2.539005\n",
            "3     0.732120\n",
            "Name: label, dtype: float64\n"
          ]
        }
      ]
    },
    {
      "cell_type": "code",
      "source": [
        "# Train data\n",
        "X_train = df_train.drop('label', axis=1)\n",
        "y_train = df_train['label']\n",
        "\n",
        "# Test data\n",
        "X_test = df_test.drop('label', axis=1)\n",
        "y_test = df_test['label']"
      ],
      "metadata": {
        "id": "pbCyjfa5XmM3"
      },
      "execution_count": 16,
      "outputs": []
    },
    {
      "cell_type": "code",
      "source": [
        "y_train"
      ],
      "metadata": {
        "colab": {
          "base_uri": "https://localhost:8080/"
        },
        "id": "oELqeX5uXpGE",
        "outputId": "fc15662b-3f76-403b-f717-f66114821b50"
      },
      "execution_count": 17,
      "outputs": [
        {
          "output_type": "execute_result",
          "data": {
            "text/plain": [
              "0        0\n",
              "1        0\n",
              "2        0\n",
              "3        0\n",
              "4        0\n",
              "        ..\n",
              "87549    4\n",
              "87550    4\n",
              "87551    4\n",
              "87552    4\n",
              "87553    4\n",
              "Name: label, Length: 87554, dtype: uint8"
            ]
          },
          "metadata": {},
          "execution_count": 17
        }
      ]
    },
    {
      "cell_type": "code",
      "source": [
        "from imblearn.over_sampling import SMOTE\n",
        "from collections import Counter\n",
        "\n",
        "counter= Counter(y_train)\n",
        "print(f'Before Sampling', counter)\n",
        "# Oversampling the train data using SMOTE\n",
        "smt=SMOTE()\n",
        "X_train_sm,y_train_sm = smt.fit_resample(X_train,y_train)\n",
        "counter= Counter(y_train_sm)\n",
        "print('After Sampling', counter)"
      ],
      "metadata": {
        "colab": {
          "base_uri": "https://localhost:8080/"
        },
        "id": "U9EWpfASXxjw",
        "outputId": "6f4742f9-64b5-42e9-e458-1dd7e789b649"
      },
      "execution_count": 18,
      "outputs": [
        {
          "output_type": "stream",
          "name": "stdout",
          "text": [
            "Before Sampling Counter({0: 72471, 4: 6431, 2: 5788, 1: 2223, 3: 641})\n",
            "After Sampling Counter({0: 72471, 1: 72471, 2: 72471, 3: 72471, 4: 72471})\n"
          ]
        }
      ]
    },
    {
      "cell_type": "code",
      "source": [
        "# Adding some noise to increase efficiency of the trained model\n",
        "def gaussian_noise(signal):\n",
        "    noise = np.random.normal(0,0.05,187)\n",
        "    return signal + noise\n",
        "# Input to the model\n",
        "X_train = X_train.values\n",
        "# Adding noise\n",
        "for i in range(X_train.shape[0]):\n",
        "    X_train[i, :] = gaussian_noise(X_train[i, :])\n",
        "\n",
        "# Convert X_train into dataframe\n",
        "X_train = pd.DataFrame(X_train)"
      ],
      "metadata": {
        "id": "xYopj1gQ9O7f"
      },
      "execution_count": 19,
      "outputs": []
    },
    {
      "cell_type": "code",
      "source": [
        "X_train"
      ],
      "metadata": {
        "colab": {
          "base_uri": "https://localhost:8080/",
          "height": 443
        },
        "id": "UbfMgRPk9Sde",
        "outputId": "d76b9a2c-9754-474a-b89f-ba2b7543de44"
      },
      "execution_count": 20,
      "outputs": [
        {
          "output_type": "execute_result",
          "data": {
            "text/plain": [
              "            0         1         2         3         4         5         6    \\\n",
              "0      0.967312  0.979697  0.663650  0.223870  0.139564  0.203633  0.134898   \n",
              "1      0.917166  0.888707  0.432091  0.230027  0.089712  0.097048  0.081986   \n",
              "2      1.013992  0.584806  0.345499  0.073319  0.029881  0.092705  0.057897   \n",
              "3      0.879770  0.683803  0.538484  0.316291  0.203628  0.009960  0.067556   \n",
              "4      0.986534  1.023016  0.905328  0.637961  0.387577  0.246795  0.274895   \n",
              "...         ...       ...       ...       ...       ...       ...       ...   \n",
              "87549  0.817800  0.530193  0.570428  0.547006  0.384181  0.442152  0.461690   \n",
              "87550  0.623841  0.645592  0.538915  0.261576  0.192192  0.143780  0.077492   \n",
              "87551  0.986051  0.598985  0.579976  0.578147  0.579828  0.532200  0.486447   \n",
              "87552  0.865136  0.685002  0.919182  0.243544  0.143988  0.156827  0.123991   \n",
              "87553  0.897112  0.844727  0.844945  0.828076  0.766932  0.579291  0.457422   \n",
              "\n",
              "            7         8         9    ...       177       178       179  \\\n",
              "0      0.059164  0.150626  0.084412  ...  0.086911 -0.050983  0.112180   \n",
              "1      0.068968  0.109268  0.048256  ...  0.077170  0.049945  0.004923   \n",
              "2      0.085237 -0.004418  0.099563  ...  0.002616  0.053509  0.074345   \n",
              "3     -0.004314  0.035850  0.063305  ...  0.111494  0.016762  0.063006   \n",
              "4      0.219924  0.197299  0.140036  ...  0.005317  0.051623  0.003741   \n",
              "...         ...       ...       ...  ...       ...       ...       ...   \n",
              "87549  0.424269  0.205481  0.126924  ...  0.022582 -0.054166  0.126733   \n",
              "87550 -0.024770  0.066440 -0.002222  ...  0.109564 -0.044638  0.053348   \n",
              "87551  0.363899  0.359643  0.210457  ... -0.062516  0.029002  0.069722   \n",
              "87552  0.073859  0.097687  0.076519  ...  0.023026  0.024297  0.005766   \n",
              "87553  0.415098  0.437925  0.397839  ... -0.029941  0.071738 -0.038216   \n",
              "\n",
              "            180       181       182       183       184       185       186  \n",
              "0      0.021798  0.061803  0.034390  0.002755  0.037910  0.073279  0.011929  \n",
              "1      0.071021 -0.071127 -0.057291 -0.033615 -0.029676 -0.007433 -0.062433  \n",
              "2     -0.011972 -0.080278  0.029992 -0.044880  0.068222 -0.081928  0.019854  \n",
              "3      0.015720 -0.055806 -0.011424 -0.086180 -0.041790 -0.033885  0.004129  \n",
              "4      0.001989 -0.011910  0.040174 -0.017559  0.018257  0.025004 -0.033694  \n",
              "...         ...       ...       ...       ...       ...       ...       ...  \n",
              "87549  0.006633  0.033255  0.070128  0.026107 -0.018108  0.032922 -0.017949  \n",
              "87550  0.039059  0.020016  0.005407 -0.078576  0.029416  0.055192 -0.119485  \n",
              "87551 -0.018760 -0.030603  0.030397 -0.006703  0.059016  0.012086  0.050711  \n",
              "87552 -0.010009 -0.018904 -0.047344  0.076833 -0.059266  0.044018  0.033798  \n",
              "87553  0.058123  0.013126  0.073876 -0.029722  0.057053  0.018991  0.021068  \n",
              "\n",
              "[87554 rows x 187 columns]"
            ],
            "text/html": [
              "\n",
              "  <div id=\"df-e5c0bf3f-5e70-4171-bac0-53ae2b1a5512\" class=\"colab-df-container\">\n",
              "    <div>\n",
              "<style scoped>\n",
              "    .dataframe tbody tr th:only-of-type {\n",
              "        vertical-align: middle;\n",
              "    }\n",
              "\n",
              "    .dataframe tbody tr th {\n",
              "        vertical-align: top;\n",
              "    }\n",
              "\n",
              "    .dataframe thead th {\n",
              "        text-align: right;\n",
              "    }\n",
              "</style>\n",
              "<table border=\"1\" class=\"dataframe\">\n",
              "  <thead>\n",
              "    <tr style=\"text-align: right;\">\n",
              "      <th></th>\n",
              "      <th>0</th>\n",
              "      <th>1</th>\n",
              "      <th>2</th>\n",
              "      <th>3</th>\n",
              "      <th>4</th>\n",
              "      <th>5</th>\n",
              "      <th>6</th>\n",
              "      <th>7</th>\n",
              "      <th>8</th>\n",
              "      <th>9</th>\n",
              "      <th>...</th>\n",
              "      <th>177</th>\n",
              "      <th>178</th>\n",
              "      <th>179</th>\n",
              "      <th>180</th>\n",
              "      <th>181</th>\n",
              "      <th>182</th>\n",
              "      <th>183</th>\n",
              "      <th>184</th>\n",
              "      <th>185</th>\n",
              "      <th>186</th>\n",
              "    </tr>\n",
              "  </thead>\n",
              "  <tbody>\n",
              "    <tr>\n",
              "      <th>0</th>\n",
              "      <td>0.967312</td>\n",
              "      <td>0.979697</td>\n",
              "      <td>0.663650</td>\n",
              "      <td>0.223870</td>\n",
              "      <td>0.139564</td>\n",
              "      <td>0.203633</td>\n",
              "      <td>0.134898</td>\n",
              "      <td>0.059164</td>\n",
              "      <td>0.150626</td>\n",
              "      <td>0.084412</td>\n",
              "      <td>...</td>\n",
              "      <td>0.086911</td>\n",
              "      <td>-0.050983</td>\n",
              "      <td>0.112180</td>\n",
              "      <td>0.021798</td>\n",
              "      <td>0.061803</td>\n",
              "      <td>0.034390</td>\n",
              "      <td>0.002755</td>\n",
              "      <td>0.037910</td>\n",
              "      <td>0.073279</td>\n",
              "      <td>0.011929</td>\n",
              "    </tr>\n",
              "    <tr>\n",
              "      <th>1</th>\n",
              "      <td>0.917166</td>\n",
              "      <td>0.888707</td>\n",
              "      <td>0.432091</td>\n",
              "      <td>0.230027</td>\n",
              "      <td>0.089712</td>\n",
              "      <td>0.097048</td>\n",
              "      <td>0.081986</td>\n",
              "      <td>0.068968</td>\n",
              "      <td>0.109268</td>\n",
              "      <td>0.048256</td>\n",
              "      <td>...</td>\n",
              "      <td>0.077170</td>\n",
              "      <td>0.049945</td>\n",
              "      <td>0.004923</td>\n",
              "      <td>0.071021</td>\n",
              "      <td>-0.071127</td>\n",
              "      <td>-0.057291</td>\n",
              "      <td>-0.033615</td>\n",
              "      <td>-0.029676</td>\n",
              "      <td>-0.007433</td>\n",
              "      <td>-0.062433</td>\n",
              "    </tr>\n",
              "    <tr>\n",
              "      <th>2</th>\n",
              "      <td>1.013992</td>\n",
              "      <td>0.584806</td>\n",
              "      <td>0.345499</td>\n",
              "      <td>0.073319</td>\n",
              "      <td>0.029881</td>\n",
              "      <td>0.092705</td>\n",
              "      <td>0.057897</td>\n",
              "      <td>0.085237</td>\n",
              "      <td>-0.004418</td>\n",
              "      <td>0.099563</td>\n",
              "      <td>...</td>\n",
              "      <td>0.002616</td>\n",
              "      <td>0.053509</td>\n",
              "      <td>0.074345</td>\n",
              "      <td>-0.011972</td>\n",
              "      <td>-0.080278</td>\n",
              "      <td>0.029992</td>\n",
              "      <td>-0.044880</td>\n",
              "      <td>0.068222</td>\n",
              "      <td>-0.081928</td>\n",
              "      <td>0.019854</td>\n",
              "    </tr>\n",
              "    <tr>\n",
              "      <th>3</th>\n",
              "      <td>0.879770</td>\n",
              "      <td>0.683803</td>\n",
              "      <td>0.538484</td>\n",
              "      <td>0.316291</td>\n",
              "      <td>0.203628</td>\n",
              "      <td>0.009960</td>\n",
              "      <td>0.067556</td>\n",
              "      <td>-0.004314</td>\n",
              "      <td>0.035850</td>\n",
              "      <td>0.063305</td>\n",
              "      <td>...</td>\n",
              "      <td>0.111494</td>\n",
              "      <td>0.016762</td>\n",
              "      <td>0.063006</td>\n",
              "      <td>0.015720</td>\n",
              "      <td>-0.055806</td>\n",
              "      <td>-0.011424</td>\n",
              "      <td>-0.086180</td>\n",
              "      <td>-0.041790</td>\n",
              "      <td>-0.033885</td>\n",
              "      <td>0.004129</td>\n",
              "    </tr>\n",
              "    <tr>\n",
              "      <th>4</th>\n",
              "      <td>0.986534</td>\n",
              "      <td>1.023016</td>\n",
              "      <td>0.905328</td>\n",
              "      <td>0.637961</td>\n",
              "      <td>0.387577</td>\n",
              "      <td>0.246795</td>\n",
              "      <td>0.274895</td>\n",
              "      <td>0.219924</td>\n",
              "      <td>0.197299</td>\n",
              "      <td>0.140036</td>\n",
              "      <td>...</td>\n",
              "      <td>0.005317</td>\n",
              "      <td>0.051623</td>\n",
              "      <td>0.003741</td>\n",
              "      <td>0.001989</td>\n",
              "      <td>-0.011910</td>\n",
              "      <td>0.040174</td>\n",
              "      <td>-0.017559</td>\n",
              "      <td>0.018257</td>\n",
              "      <td>0.025004</td>\n",
              "      <td>-0.033694</td>\n",
              "    </tr>\n",
              "    <tr>\n",
              "      <th>...</th>\n",
              "      <td>...</td>\n",
              "      <td>...</td>\n",
              "      <td>...</td>\n",
              "      <td>...</td>\n",
              "      <td>...</td>\n",
              "      <td>...</td>\n",
              "      <td>...</td>\n",
              "      <td>...</td>\n",
              "      <td>...</td>\n",
              "      <td>...</td>\n",
              "      <td>...</td>\n",
              "      <td>...</td>\n",
              "      <td>...</td>\n",
              "      <td>...</td>\n",
              "      <td>...</td>\n",
              "      <td>...</td>\n",
              "      <td>...</td>\n",
              "      <td>...</td>\n",
              "      <td>...</td>\n",
              "      <td>...</td>\n",
              "      <td>...</td>\n",
              "    </tr>\n",
              "    <tr>\n",
              "      <th>87549</th>\n",
              "      <td>0.817800</td>\n",
              "      <td>0.530193</td>\n",
              "      <td>0.570428</td>\n",
              "      <td>0.547006</td>\n",
              "      <td>0.384181</td>\n",
              "      <td>0.442152</td>\n",
              "      <td>0.461690</td>\n",
              "      <td>0.424269</td>\n",
              "      <td>0.205481</td>\n",
              "      <td>0.126924</td>\n",
              "      <td>...</td>\n",
              "      <td>0.022582</td>\n",
              "      <td>-0.054166</td>\n",
              "      <td>0.126733</td>\n",
              "      <td>0.006633</td>\n",
              "      <td>0.033255</td>\n",
              "      <td>0.070128</td>\n",
              "      <td>0.026107</td>\n",
              "      <td>-0.018108</td>\n",
              "      <td>0.032922</td>\n",
              "      <td>-0.017949</td>\n",
              "    </tr>\n",
              "    <tr>\n",
              "      <th>87550</th>\n",
              "      <td>0.623841</td>\n",
              "      <td>0.645592</td>\n",
              "      <td>0.538915</td>\n",
              "      <td>0.261576</td>\n",
              "      <td>0.192192</td>\n",
              "      <td>0.143780</td>\n",
              "      <td>0.077492</td>\n",
              "      <td>-0.024770</td>\n",
              "      <td>0.066440</td>\n",
              "      <td>-0.002222</td>\n",
              "      <td>...</td>\n",
              "      <td>0.109564</td>\n",
              "      <td>-0.044638</td>\n",
              "      <td>0.053348</td>\n",
              "      <td>0.039059</td>\n",
              "      <td>0.020016</td>\n",
              "      <td>0.005407</td>\n",
              "      <td>-0.078576</td>\n",
              "      <td>0.029416</td>\n",
              "      <td>0.055192</td>\n",
              "      <td>-0.119485</td>\n",
              "    </tr>\n",
              "    <tr>\n",
              "      <th>87551</th>\n",
              "      <td>0.986051</td>\n",
              "      <td>0.598985</td>\n",
              "      <td>0.579976</td>\n",
              "      <td>0.578147</td>\n",
              "      <td>0.579828</td>\n",
              "      <td>0.532200</td>\n",
              "      <td>0.486447</td>\n",
              "      <td>0.363899</td>\n",
              "      <td>0.359643</td>\n",
              "      <td>0.210457</td>\n",
              "      <td>...</td>\n",
              "      <td>-0.062516</td>\n",
              "      <td>0.029002</td>\n",
              "      <td>0.069722</td>\n",
              "      <td>-0.018760</td>\n",
              "      <td>-0.030603</td>\n",
              "      <td>0.030397</td>\n",
              "      <td>-0.006703</td>\n",
              "      <td>0.059016</td>\n",
              "      <td>0.012086</td>\n",
              "      <td>0.050711</td>\n",
              "    </tr>\n",
              "    <tr>\n",
              "      <th>87552</th>\n",
              "      <td>0.865136</td>\n",
              "      <td>0.685002</td>\n",
              "      <td>0.919182</td>\n",
              "      <td>0.243544</td>\n",
              "      <td>0.143988</td>\n",
              "      <td>0.156827</td>\n",
              "      <td>0.123991</td>\n",
              "      <td>0.073859</td>\n",
              "      <td>0.097687</td>\n",
              "      <td>0.076519</td>\n",
              "      <td>...</td>\n",
              "      <td>0.023026</td>\n",
              "      <td>0.024297</td>\n",
              "      <td>0.005766</td>\n",
              "      <td>-0.010009</td>\n",
              "      <td>-0.018904</td>\n",
              "      <td>-0.047344</td>\n",
              "      <td>0.076833</td>\n",
              "      <td>-0.059266</td>\n",
              "      <td>0.044018</td>\n",
              "      <td>0.033798</td>\n",
              "    </tr>\n",
              "    <tr>\n",
              "      <th>87553</th>\n",
              "      <td>0.897112</td>\n",
              "      <td>0.844727</td>\n",
              "      <td>0.844945</td>\n",
              "      <td>0.828076</td>\n",
              "      <td>0.766932</td>\n",
              "      <td>0.579291</td>\n",
              "      <td>0.457422</td>\n",
              "      <td>0.415098</td>\n",
              "      <td>0.437925</td>\n",
              "      <td>0.397839</td>\n",
              "      <td>...</td>\n",
              "      <td>-0.029941</td>\n",
              "      <td>0.071738</td>\n",
              "      <td>-0.038216</td>\n",
              "      <td>0.058123</td>\n",
              "      <td>0.013126</td>\n",
              "      <td>0.073876</td>\n",
              "      <td>-0.029722</td>\n",
              "      <td>0.057053</td>\n",
              "      <td>0.018991</td>\n",
              "      <td>0.021068</td>\n",
              "    </tr>\n",
              "  </tbody>\n",
              "</table>\n",
              "<p>87554 rows × 187 columns</p>\n",
              "</div>\n",
              "    <div class=\"colab-df-buttons\">\n",
              "\n",
              "  <div class=\"colab-df-container\">\n",
              "    <button class=\"colab-df-convert\" onclick=\"convertToInteractive('df-e5c0bf3f-5e70-4171-bac0-53ae2b1a5512')\"\n",
              "            title=\"Convert this dataframe to an interactive table.\"\n",
              "            style=\"display:none;\">\n",
              "\n",
              "  <svg xmlns=\"http://www.w3.org/2000/svg\" height=\"24px\" viewBox=\"0 -960 960 960\">\n",
              "    <path d=\"M120-120v-720h720v720H120Zm60-500h600v-160H180v160Zm220 220h160v-160H400v160Zm0 220h160v-160H400v160ZM180-400h160v-160H180v160Zm440 0h160v-160H620v160ZM180-180h160v-160H180v160Zm440 0h160v-160H620v160Z\"/>\n",
              "  </svg>\n",
              "    </button>\n",
              "\n",
              "  <style>\n",
              "    .colab-df-container {\n",
              "      display:flex;\n",
              "      gap: 12px;\n",
              "    }\n",
              "\n",
              "    .colab-df-convert {\n",
              "      background-color: #E8F0FE;\n",
              "      border: none;\n",
              "      border-radius: 50%;\n",
              "      cursor: pointer;\n",
              "      display: none;\n",
              "      fill: #1967D2;\n",
              "      height: 32px;\n",
              "      padding: 0 0 0 0;\n",
              "      width: 32px;\n",
              "    }\n",
              "\n",
              "    .colab-df-convert:hover {\n",
              "      background-color: #E2EBFA;\n",
              "      box-shadow: 0px 1px 2px rgba(60, 64, 67, 0.3), 0px 1px 3px 1px rgba(60, 64, 67, 0.15);\n",
              "      fill: #174EA6;\n",
              "    }\n",
              "\n",
              "    .colab-df-buttons div {\n",
              "      margin-bottom: 4px;\n",
              "    }\n",
              "\n",
              "    [theme=dark] .colab-df-convert {\n",
              "      background-color: #3B4455;\n",
              "      fill: #D2E3FC;\n",
              "    }\n",
              "\n",
              "    [theme=dark] .colab-df-convert:hover {\n",
              "      background-color: #434B5C;\n",
              "      box-shadow: 0px 1px 3px 1px rgba(0, 0, 0, 0.15);\n",
              "      filter: drop-shadow(0px 1px 2px rgba(0, 0, 0, 0.3));\n",
              "      fill: #FFFFFF;\n",
              "    }\n",
              "  </style>\n",
              "\n",
              "    <script>\n",
              "      const buttonEl =\n",
              "        document.querySelector('#df-e5c0bf3f-5e70-4171-bac0-53ae2b1a5512 button.colab-df-convert');\n",
              "      buttonEl.style.display =\n",
              "        google.colab.kernel.accessAllowed ? 'block' : 'none';\n",
              "\n",
              "      async function convertToInteractive(key) {\n",
              "        const element = document.querySelector('#df-e5c0bf3f-5e70-4171-bac0-53ae2b1a5512');\n",
              "        const dataTable =\n",
              "          await google.colab.kernel.invokeFunction('convertToInteractive',\n",
              "                                                    [key], {});\n",
              "        if (!dataTable) return;\n",
              "\n",
              "        const docLinkHtml = 'Like what you see? Visit the ' +\n",
              "          '<a target=\"_blank\" href=https://colab.research.google.com/notebooks/data_table.ipynb>data table notebook</a>'\n",
              "          + ' to learn more about interactive tables.';\n",
              "        element.innerHTML = '';\n",
              "        dataTable['output_type'] = 'display_data';\n",
              "        await google.colab.output.renderOutput(dataTable, element);\n",
              "        const docLink = document.createElement('div');\n",
              "        docLink.innerHTML = docLinkHtml;\n",
              "        element.appendChild(docLink);\n",
              "      }\n",
              "    </script>\n",
              "  </div>\n",
              "\n",
              "\n",
              "<div id=\"df-0dc0b547-892c-41be-aeea-43ff3a4c19b9\">\n",
              "  <button class=\"colab-df-quickchart\" onclick=\"quickchart('df-0dc0b547-892c-41be-aeea-43ff3a4c19b9')\"\n",
              "            title=\"Suggest charts.\"\n",
              "            style=\"display:none;\">\n",
              "\n",
              "<svg xmlns=\"http://www.w3.org/2000/svg\" height=\"24px\"viewBox=\"0 0 24 24\"\n",
              "     width=\"24px\">\n",
              "    <g>\n",
              "        <path d=\"M19 3H5c-1.1 0-2 .9-2 2v14c0 1.1.9 2 2 2h14c1.1 0 2-.9 2-2V5c0-1.1-.9-2-2-2zM9 17H7v-7h2v7zm4 0h-2V7h2v10zm4 0h-2v-4h2v4z\"/>\n",
              "    </g>\n",
              "</svg>\n",
              "  </button>\n",
              "\n",
              "<style>\n",
              "  .colab-df-quickchart {\n",
              "    background-color: #E8F0FE;\n",
              "    border: none;\n",
              "    border-radius: 50%;\n",
              "    cursor: pointer;\n",
              "    display: none;\n",
              "    fill: #1967D2;\n",
              "    height: 32px;\n",
              "    padding: 0 0 0 0;\n",
              "    width: 32px;\n",
              "  }\n",
              "\n",
              "  .colab-df-quickchart:hover {\n",
              "    background-color: #E2EBFA;\n",
              "    box-shadow: 0px 1px 2px rgba(60, 64, 67, 0.3), 0px 1px 3px 1px rgba(60, 64, 67, 0.15);\n",
              "    fill: #174EA6;\n",
              "  }\n",
              "\n",
              "  [theme=dark] .colab-df-quickchart {\n",
              "    background-color: #3B4455;\n",
              "    fill: #D2E3FC;\n",
              "  }\n",
              "\n",
              "  [theme=dark] .colab-df-quickchart:hover {\n",
              "    background-color: #434B5C;\n",
              "    box-shadow: 0px 1px 3px 1px rgba(0, 0, 0, 0.15);\n",
              "    filter: drop-shadow(0px 1px 2px rgba(0, 0, 0, 0.3));\n",
              "    fill: #FFFFFF;\n",
              "  }\n",
              "</style>\n",
              "\n",
              "  <script>\n",
              "    async function quickchart(key) {\n",
              "      const charts = await google.colab.kernel.invokeFunction(\n",
              "          'suggestCharts', [key], {});\n",
              "    }\n",
              "    (() => {\n",
              "      let quickchartButtonEl =\n",
              "        document.querySelector('#df-0dc0b547-892c-41be-aeea-43ff3a4c19b9 button');\n",
              "      quickchartButtonEl.style.display =\n",
              "        google.colab.kernel.accessAllowed ? 'block' : 'none';\n",
              "    })();\n",
              "  </script>\n",
              "</div>\n",
              "    </div>\n",
              "  </div>\n"
            ]
          },
          "metadata": {},
          "execution_count": 20
        }
      ]
    },
    {
      "cell_type": "code",
      "source": [
        "#Split data into train set(80%) & test set (20%)\n",
        "X_train, X_val, y_train, y_val =train_test_split(X_train, y_train, stratify = y_train, test_size=0.2, random_state=42)"
      ],
      "metadata": {
        "id": "02keAzFn98I9"
      },
      "execution_count": 21,
      "outputs": []
    },
    {
      "cell_type": "code",
      "source": [
        "# One hot encoding the output of the model\n",
        "y_train = to_categorical(y_train)\n",
        "y_val = to_categorical(y_val)\n",
        "y_test = to_categorical(y_test)"
      ],
      "metadata": {
        "id": "EyvkCb8a-CNp"
      },
      "execution_count": 22,
      "outputs": []
    },
    {
      "cell_type": "code",
      "source": [
        "y_test"
      ],
      "metadata": {
        "colab": {
          "base_uri": "https://localhost:8080/"
        },
        "id": "Ql9ofMbC-FJG",
        "outputId": "f4ad6dc0-ba38-4741-e4be-153fb94b00fa"
      },
      "execution_count": 23,
      "outputs": [
        {
          "output_type": "execute_result",
          "data": {
            "text/plain": [
              "array([[1., 0., 0., 0., 0.],\n",
              "       [1., 0., 0., 0., 0.],\n",
              "       [1., 0., 0., 0., 0.],\n",
              "       ...,\n",
              "       [0., 0., 0., 0., 1.],\n",
              "       [0., 0., 0., 0., 1.],\n",
              "       [0., 0., 0., 0., 1.]], dtype=float32)"
            ]
          },
          "metadata": {},
          "execution_count": 23
        }
      ]
    },
    {
      "cell_type": "code",
      "source": [
        "y_train.shape"
      ],
      "metadata": {
        "colab": {
          "base_uri": "https://localhost:8080/"
        },
        "id": "6Ke1KVn7-Hi_",
        "outputId": "60cf2117-bc4b-4987-8a5a-a1c8fecbb670"
      },
      "execution_count": 24,
      "outputs": [
        {
          "output_type": "execute_result",
          "data": {
            "text/plain": [
              "(70043, 5)"
            ]
          },
          "metadata": {},
          "execution_count": 24
        }
      ]
    },
    {
      "cell_type": "code",
      "source": [
        "X_train.shape"
      ],
      "metadata": {
        "colab": {
          "base_uri": "https://localhost:8080/"
        },
        "id": "CiiKO260-KOu",
        "outputId": "2ed01296-a632-4112-e0e6-35cef15bc1a0"
      },
      "execution_count": 25,
      "outputs": [
        {
          "output_type": "execute_result",
          "data": {
            "text/plain": [
              "(70043, 187)"
            ]
          },
          "metadata": {},
          "execution_count": 25
        }
      ]
    },
    {
      "cell_type": "code",
      "source": [
        "# Convert to numpy arrays\n",
        "x_train = np.array(X_train)\n",
        "x_val = np.array(X_val)\n",
        "x_test = np.array(X_test)"
      ],
      "metadata": {
        "id": "iVibKq84-NT3"
      },
      "execution_count": 26,
      "outputs": []
    },
    {
      "cell_type": "code",
      "source": [
        "x_test"
      ],
      "metadata": {
        "colab": {
          "base_uri": "https://localhost:8080/"
        },
        "id": "Xp2bER1h-P6r",
        "outputId": "4dcc588b-7762-4e71-fcfb-960cdf4047eb"
      },
      "execution_count": 27,
      "outputs": [
        {
          "output_type": "execute_result",
          "data": {
            "text/plain": [
              "array([[1.        , 0.75826448, 0.11157025, ..., 0.        , 0.        ,\n",
              "        0.        ],\n",
              "       [0.90842491, 0.7838828 , 0.53113556, ..., 0.        , 0.        ,\n",
              "        0.        ],\n",
              "       [0.73008847, 0.21238938, 0.        , ..., 0.        , 0.        ,\n",
              "        0.        ],\n",
              "       ...,\n",
              "       [1.        , 0.96735907, 0.62017804, ..., 0.        , 0.        ,\n",
              "        0.        ],\n",
              "       [0.98412699, 0.5674603 , 0.60714287, ..., 0.        , 0.        ,\n",
              "        0.        ],\n",
              "       [0.97396964, 0.91323209, 0.86550975, ..., 0.        , 0.        ,\n",
              "        0.        ]])"
            ]
          },
          "metadata": {},
          "execution_count": 27
        }
      ]
    },
    {
      "cell_type": "code",
      "source": [
        "X_train =x_train.reshape(x_train.shape[0], 1, x_train.shape[1])   # number of time steps is 1\n",
        "X_val =x_val.reshape(x_val.shape[0], 1, x_val.shape[1])   # number of time steps is 1\n",
        "X_test = x_test.reshape(x_test.shape[0], 1, x_test.shape[1])     # number of time steps is 1"
      ],
      "metadata": {
        "id": "r5mIwYkf-WzN"
      },
      "execution_count": 28,
      "outputs": []
    },
    {
      "cell_type": "code",
      "source": [
        "n_classes = y_train.shape[1]\n",
        "n_classes"
      ],
      "metadata": {
        "colab": {
          "base_uri": "https://localhost:8080/"
        },
        "id": "i5BIFMAg-Z0j",
        "outputId": "21bd9c85-9fd4-4e1e-bb28-20eb090f80ba"
      },
      "execution_count": 29,
      "outputs": [
        {
          "output_type": "execute_result",
          "data": {
            "text/plain": [
              "5"
            ]
          },
          "metadata": {},
          "execution_count": 29
        }
      ]
    },
    {
      "cell_type": "code",
      "source": [
        "input_shape = X_train.shape[1:]\n",
        "input_shape"
      ],
      "metadata": {
        "colab": {
          "base_uri": "https://localhost:8080/"
        },
        "id": "xfzBe2JV-cih",
        "outputId": "63c6ddd0-9fdf-4f90-f38d-0b57f0076069"
      },
      "execution_count": 30,
      "outputs": [
        {
          "output_type": "execute_result",
          "data": {
            "text/plain": [
              "(1, 187)"
            ]
          },
          "metadata": {},
          "execution_count": 30
        }
      ]
    },
    {
      "cell_type": "code",
      "source": [
        "\n",
        "import numpy as np\n",
        "import tensorflow as tf\n",
        "from tensorflow.keras.models import Sequential\n",
        "from tensorflow.keras.layers import Conv1D, MaxPooling1D, GRU, Dense, Dropout, BatchNormalization\n",
        "from tensorflow.keras.optimizers import Adam\n",
        "from tensorflow.keras.regularizers import l2\n",
        "\n",
        "\n",
        "model1 = Sequential()\n",
        "\n",
        "# Convolutional Neural Network (CNN) layers\n",
        "model1.add(Conv1D(filters=128, kernel_size=3, activation='relu', padding='same', input_shape=input_shape))\n",
        "model1.add(BatchNormalization())\n",
        "model1.add(Conv1D(filters=64, kernel_size=3, activation='relu', padding='same'))\n",
        "model1.add(BatchNormalization())\n",
        "model1.add(Conv1D(filters=64, kernel_size=3, activation='relu', padding='same'))\n",
        "model1.add(BatchNormalization())\n",
        "\n",
        "# MaxPooling1D layer instead of GlobalMaxPooling1D\n",
        "# model2.add(MaxPooling1D(pool_size=2))\n",
        "model1.add(Dropout(0.5))\n",
        "\n",
        "# Fully connected layers\n",
        "model1.add(Dense(64, activation='relu', kernel_regularizer=l2(0.001)))\n",
        "model1.add(Dropout(0.5))\n",
        "model1.add(Dense(32, activation='relu', kernel_regularizer=l2(0.001)))\n",
        "\n",
        "# GRU Layer\n",
        "num_gru_units = 64\n",
        "model1.add(GRU(num_gru_units, return_sequences=False))  # Using GRU layer instead of LSTM\n",
        "\n",
        "# Fully Connected Layer\n",
        "model1.add(Dense(64, activation='relu'))\n",
        "model1.add(Dropout(0.5))\n",
        "model1.add(Dense(n_classes, activation='softmax'))\n",
        "\n",
        "# Compile the model with a learning rate scheduler\n",
        "initial_learning_rate = 0.001\n",
        "lr_schedule = tf.keras.optimizers.schedules.ExponentialDecay(\n",
        "    initial_learning_rate,\n",
        "    decay_steps=10000,\n",
        "    decay_rate=0.9,\n",
        "    staircase=True\n",
        ")\n",
        "optimizer = Adam(learning_rate=lr_schedule)\n",
        "model1.compile(loss='categorical_crossentropy', optimizer=optimizer, metrics=['accuracy'])\n",
        "\n",
        "# Display the model summary\n",
        "model1.summary()\n"
      ],
      "metadata": {
        "colab": {
          "base_uri": "https://localhost:8080/"
        },
        "id": "UcgzV90I0cZX",
        "outputId": "6eea8474-9be2-4b63-c8be-b7b4fcbb3fba"
      },
      "execution_count": 31,
      "outputs": [
        {
          "output_type": "stream",
          "name": "stdout",
          "text": [
            "Model: \"sequential\"\n",
            "_________________________________________________________________\n",
            " Layer (type)                Output Shape              Param #   \n",
            "=================================================================\n",
            " conv1d (Conv1D)             (None, 1, 128)            71936     \n",
            "                                                                 \n",
            " batch_normalization (BatchN  (None, 1, 128)           512       \n",
            " ormalization)                                                   \n",
            "                                                                 \n",
            " conv1d_1 (Conv1D)           (None, 1, 64)             24640     \n",
            "                                                                 \n",
            " batch_normalization_1 (Batc  (None, 1, 64)            256       \n",
            " hNormalization)                                                 \n",
            "                                                                 \n",
            " conv1d_2 (Conv1D)           (None, 1, 64)             12352     \n",
            "                                                                 \n",
            " batch_normalization_2 (Batc  (None, 1, 64)            256       \n",
            " hNormalization)                                                 \n",
            "                                                                 \n",
            " dropout (Dropout)           (None, 1, 64)             0         \n",
            "                                                                 \n",
            " dense (Dense)               (None, 1, 64)             4160      \n",
            "                                                                 \n",
            " dropout_1 (Dropout)         (None, 1, 64)             0         \n",
            "                                                                 \n",
            " dense_1 (Dense)             (None, 1, 32)             2080      \n",
            "                                                                 \n",
            " gru (GRU)                   (None, 64)                18816     \n",
            "                                                                 \n",
            " dense_2 (Dense)             (None, 64)                4160      \n",
            "                                                                 \n",
            " dropout_2 (Dropout)         (None, 64)                0         \n",
            "                                                                 \n",
            " dense_3 (Dense)             (None, 5)                 325       \n",
            "                                                                 \n",
            "=================================================================\n",
            "Total params: 139,493\n",
            "Trainable params: 138,981\n",
            "Non-trainable params: 512\n",
            "_________________________________________________________________\n"
          ]
        }
      ]
    },
    {
      "cell_type": "code",
      "source": [
        "from IPython.display import Image, display\n",
        "from keras.utils.vis_utils import model_to_dot\n",
        "import pydot\n",
        "\n",
        "# Create a Dot object for the model\n",
        "dot = model_to_dot(model1)\n",
        "\n",
        "# Modify the Dot object to set the horizontal layout\n",
        "dot.set_rankdir('LR')\n",
        "\n",
        "# Convert Dot object to PNG image using Graphviz\n",
        "png_image = dot.create_png()\n",
        "\n",
        "# Display the image using IPython.display\n",
        "display(Image(png_image))\n"
      ],
      "metadata": {
        "colab": {
          "base_uri": "https://localhost:8080/",
          "height": 62
        },
        "id": "vuvdicLowB4t",
        "outputId": "b7499357-2f73-4e8e-c600-c4217919fad9"
      },
      "execution_count": 32,
      "outputs": [
        {
          "output_type": "display_data",
          "data": {
            "image/png": "[encoded data removed]",
            "text/plain": [
              "<IPython.core.display.Image object>"
            ]
          },
          "metadata": {}
        }
      ]
    },
    {
      "cell_type": "code",
      "source": [
        "batch_size = 16\n",
        "\n",
        "history1 = model1.fit(X_train, y_train, batch_size=batch_size,epochs=25,validation_data=(X_val, y_val))"
      ],
      "metadata": {
        "colab": {
          "base_uri": "https://localhost:8080/"
        },
        "id": "e4QuorHV0j-e",
        "outputId": "30080fa7-db66-4182-dd82-aa06ebc7f1ea"
      },
      "execution_count": 33,
      "outputs": [
        {
          "output_type": "stream",
          "name": "stdout",
          "text": [
            "Epoch 1/25\n",
            "4378/4378 [==============================] - 53s 9ms/step - loss: 0.4708 - accuracy: 0.8843 - val_loss: 0.2730 - val_accuracy: 0.9316\n",
            "Epoch 2/25\n",
            "4378/4378 [==============================] - 43s 10ms/step - loss: 0.3112 - accuracy: 0.9249 - val_loss: 0.2245 - val_accuracy: 0.9463\n",
            "Epoch 3/25\n",
            "4378/4378 [==============================] - 43s 10ms/step - loss: 0.2678 - accuracy: 0.9353 - val_loss: 0.1969 - val_accuracy: 0.9533\n",
            "Epoch 4/25\n",
            "4378/4378 [==============================] - 42s 9ms/step - loss: 0.2481 - accuracy: 0.9401 - val_loss: 0.2147 - val_accuracy: 0.9478\n",
            "Epoch 5/25\n",
            "4378/4378 [==============================] - 42s 10ms/step - loss: 0.2299 - accuracy: 0.9447 - val_loss: 0.1789 - val_accuracy: 0.9543\n",
            "Epoch 6/25\n",
            "4378/4378 [==============================] - 41s 9ms/step - loss: 0.2171 - accuracy: 0.9471 - val_loss: 0.1669 - val_accuracy: 0.9584\n",
            "Epoch 7/25\n",
            "4378/4378 [==============================] - 43s 10ms/step - loss: 0.2046 - accuracy: 0.9513 - val_loss: 0.1568 - val_accuracy: 0.9624\n",
            "Epoch 8/25\n",
            "4378/4378 [==============================] - 40s 9ms/step - loss: 0.1982 - accuracy: 0.9516 - val_loss: 0.1621 - val_accuracy: 0.9593\n",
            "Epoch 9/25\n",
            "4378/4378 [==============================] - 38s 9ms/step - loss: 0.1905 - accuracy: 0.9544 - val_loss: 0.1533 - val_accuracy: 0.9631\n",
            "Epoch 10/25\n",
            "4378/4378 [==============================] - 39s 9ms/step - loss: 0.1856 - accuracy: 0.9549 - val_loss: 0.1405 - val_accuracy: 0.9653\n",
            "Epoch 11/25\n",
            "4378/4378 [==============================] - 41s 9ms/step - loss: 0.1801 - accuracy: 0.9552 - val_loss: 0.1437 - val_accuracy: 0.9656\n",
            "Epoch 12/25\n",
            "4378/4378 [==============================] - 41s 9ms/step - loss: 0.1713 - accuracy: 0.9579 - val_loss: 0.1335 - val_accuracy: 0.9672\n",
            "Epoch 13/25\n",
            "4378/4378 [==============================] - 37s 9ms/step - loss: 0.1668 - accuracy: 0.9593 - val_loss: 0.1631 - val_accuracy: 0.9556\n",
            "Epoch 14/25\n",
            "4378/4378 [==============================] - 39s 9ms/step - loss: 0.1628 - accuracy: 0.9602 - val_loss: 0.1303 - val_accuracy: 0.9672\n",
            "Epoch 15/25\n",
            "4378/4378 [==============================] - 42s 10ms/step - loss: 0.1601 - accuracy: 0.9616 - val_loss: 0.1423 - val_accuracy: 0.9643\n",
            "Epoch 16/25\n",
            "4378/4378 [==============================] - 40s 9ms/step - loss: 0.1574 - accuracy: 0.9611 - val_loss: 0.1345 - val_accuracy: 0.9670\n",
            "Epoch 17/25\n",
            "4378/4378 [==============================] - 41s 9ms/step - loss: 0.1528 - accuracy: 0.9631 - val_loss: 0.1275 - val_accuracy: 0.9693\n",
            "Epoch 18/25\n",
            "4378/4378 [==============================] - 38s 9ms/step - loss: 0.1496 - accuracy: 0.9631 - val_loss: 0.1382 - val_accuracy: 0.9645\n",
            "Epoch 19/25\n",
            "4378/4378 [==============================] - 40s 9ms/step - loss: 0.1477 - accuracy: 0.9629 - val_loss: 0.1247 - val_accuracy: 0.9692\n",
            "Epoch 20/25\n",
            "4378/4378 [==============================] - 46s 11ms/step - loss: 0.1433 - accuracy: 0.9640 - val_loss: 0.1308 - val_accuracy: 0.9676\n",
            "Epoch 21/25\n",
            "4378/4378 [==============================] - 40s 9ms/step - loss: 0.1428 - accuracy: 0.9647 - val_loss: 0.1282 - val_accuracy: 0.9689\n",
            "Epoch 22/25\n",
            "4378/4378 [==============================] - 40s 9ms/step - loss: 0.1379 - accuracy: 0.9670 - val_loss: 0.1288 - val_accuracy: 0.9676\n",
            "Epoch 23/25\n",
            "4378/4378 [==============================] - 39s 9ms/step - loss: 0.1361 - accuracy: 0.9660 - val_loss: 0.1279 - val_accuracy: 0.9701\n",
            "Epoch 24/25\n",
            "4378/4378 [==============================] - 40s 9ms/step - loss: 0.1316 - accuracy: 0.9672 - val_loss: 0.1243 - val_accuracy: 0.9700\n",
            "Epoch 25/25\n",
            "4378/4378 [==============================] - 41s 9ms/step - loss: 0.1335 - accuracy: 0.9672 - val_loss: 0.1272 - val_accuracy: 0.9706\n"
          ]
        }
      ]
    },
    {
      "cell_type": "code",
      "source": [
        "# list all data in history\n",
        "print(history1.history.keys())"
      ],
      "metadata": {
        "colab": {
          "base_uri": "https://localhost:8080/"
        },
        "id": "r9vK4WMB055s",
        "outputId": "24d68840-d84b-4b63-bb29-5f991d341bd7"
      },
      "execution_count": 34,
      "outputs": [
        {
          "output_type": "stream",
          "name": "stdout",
          "text": [
            "dict_keys(['loss', 'accuracy', 'val_loss', 'val_accuracy'])\n"
          ]
        }
      ]
    },
    {
      "cell_type": "code",
      "source": [
        "# summarize history for accuracy\n",
        "plt.plot(history1.history['accuracy'])\n",
        "plt.plot(history1.history['val_accuracy'])\n",
        "plt.title('model accuracy')\n",
        "plt.ylabel('accuracy')\n",
        "plt.xlabel('epoch')\n",
        "plt.legend(['train', 'validation'], loc='upper left')\n",
        "plt.show()"
      ],
      "metadata": {
        "colab": {
          "base_uri": "https://localhost:8080/",
          "height": 472
        },
        "id": "M9526RhW0_nm",
        "outputId": "63f31e4a-0686-4437-93e8-c3c0e77f0242"
      },
      "execution_count": 35,
      "outputs": [
        {
          "output_type": "display_data",
          "data": {
            "text/plain": [
              "<Figure size 640x480 with 1 Axes>"
            ],
            "image/png": "[encoded data removed]"
          },
          "metadata": {}
        }
      ]
    },
    {
      "cell_type": "code",
      "source": [
        "# summarize history for loss\n",
        "plt.plot(history1.history['loss'])\n",
        "plt.plot(history1.history['val_loss'])\n",
        "plt.title('model loss')\n",
        "plt.ylabel('loss')\n",
        "plt.xlabel('epoch')\n",
        "plt.legend(['train', 'validation'], loc='upper left')\n",
        "plt.show()"
      ],
      "metadata": {
        "colab": {
          "base_uri": "https://localhost:8080/",
          "height": 472
        },
        "id": "0LoHd9D11I4c",
        "outputId": "96fd8fbc-3cc6-4471-f157-2bcc2054a3dc"
      },
      "execution_count": 36,
      "outputs": [
        {
          "output_type": "display_data",
          "data": {
            "text/plain": [
              "<Figure size 640x480 with 1 Axes>"
            ],
            "image/png": "[encoded data removed]"
          },
          "metadata": {}
        }
      ]
    },
    {
      "cell_type": "code",
      "source": [
        "import numpy as np\n",
        "import tensorflow as tf\n",
        "from datetime import datetime\n",
        "\n",
        "start_time = datetime.now()\n",
        "y_pred = model1.predict(X_test)\n",
        "end_time = datetime.now()\n",
        "y_pred\n",
        "\n",
        "testing_time = end_time - start_time\n",
        "print(f\"Testing time: {testing_time}\")"
      ],
      "metadata": {
        "colab": {
          "base_uri": "https://localhost:8080/"
        },
        "id": "duWAUIsw1U0N",
        "outputId": "82664a4c-0895-4474-9751-45a35b51379d"
      },
      "execution_count": 37,
      "outputs": [
        {
          "output_type": "stream",
          "name": "stdout",
          "text": [
            "685/685 [==============================] - 3s 3ms/step\n",
            "Testing time: 0:00:03.229926\n"
          ]
        }
      ]
    },
    {
      "cell_type": "code",
      "source": [
        "y_pred = y_pred.argmax(axis=1)\n",
        "y_pred"
      ],
      "metadata": {
        "colab": {
          "base_uri": "https://localhost:8080/"
        },
        "id": "9Z_QPfIq1e_7",
        "outputId": "f17e8362-d2f8-4862-fa30-93086a880b13"
      },
      "execution_count": 38,
      "outputs": [
        {
          "output_type": "execute_result",
          "data": {
            "text/plain": [
              "array([0, 0, 0, ..., 4, 4, 4])"
            ]
          },
          "metadata": {},
          "execution_count": 38
        }
      ]
    },
    {
      "cell_type": "code",
      "source": [
        "y_test = y_test.argmax(axis=1)\n",
        "y_test"
      ],
      "metadata": {
        "colab": {
          "base_uri": "https://localhost:8080/"
        },
        "id": "5Auon48x1jb1",
        "outputId": "fe59b9e0-7862-49e5-a4f6-8f14918d1be3"
      },
      "execution_count": 41,
      "outputs": [
        {
          "output_type": "execute_result",
          "data": {
            "text/plain": [
              "array([0, 0, 0, ..., 4, 4, 4])"
            ]
          },
          "metadata": {},
          "execution_count": 41
        }
      ]
    },
    {
      "cell_type": "code",
      "source": [
        "def show_confusion_matrix(confusion_matrix):\n",
        "  plt.figure(figsize=(12,6))\n",
        "  hmap = sns.heatmap(confusion_matrix, annot=True, fmt=\"d\", cmap=\"viridis\")\n",
        "  hmap.yaxis.set_ticklabels(hmap.yaxis.get_ticklabels(),rotation=0, ha='right')\n",
        "  hmap.xaxis.set_ticklabels(hmap.xaxis.get_ticklabels(),rotation=0, ha='right')\n",
        "  plt.ylabel('True sentiment')\n",
        "  plt.xlabel('Predicted sentiment')\n",
        "cm = confusion_matrix(y_test, y_pred)\n",
        "df_cm = pd.DataFrame(cm, index=class_names, columns=class_names)\n",
        "show_confusion_matrix(df_cm)"
      ],
      "metadata": {
        "colab": {
          "base_uri": "https://localhost:8080/",
          "height": 542
        },
        "id": "YAfGsxfj1nA-",
        "outputId": "3651f8e9-fd0f-4f4a-d269-2ed20735d8ee"
      },
      "execution_count": 42,
      "outputs": [
        {
          "output_type": "display_data",
          "data": {
            "text/plain": [
              "<Figure size 1200x600 with 2 Axes>"
            ],
            "image/png": "[encoded data removed]"
          },
          "metadata": {}
        }
      ]
    },
    {
      "cell_type": "code",
      "source": [
        "class_report= classification_report(y_test, y_pred)\n",
        "print(class_report)"
      ],
      "metadata": {
        "colab": {
          "base_uri": "https://localhost:8080/"
        },
        "id": "AB2GTjgw1vl7",
        "outputId": "e6d8a6a5-8cc3-42f9-da18-f466bb3b4786"
      },
      "execution_count": 43,
      "outputs": [
        {
          "output_type": "stream",
          "name": "stdout",
          "text": [
            "              precision    recall  f1-score   support\n",
            "\n",
            "           0       0.98      0.99      0.99     18118\n",
            "           1       0.87      0.63      0.73       556\n",
            "           2       0.95      0.89      0.92      1448\n",
            "           3       0.65      0.69      0.67       162\n",
            "           4       0.98      0.95      0.97      1608\n",
            "\n",
            "    accuracy                           0.97     21892\n",
            "   macro avg       0.89      0.83      0.85     21892\n",
            "weighted avg       0.97      0.97      0.97     21892\n",
            "\n"
          ]
        }
      ]
    },
    {
      "cell_type": "code",
      "source": [
        "import numpy as np\n",
        "import tensorflow as tf\n",
        "from tensorflow.keras.models import Sequential, Model\n",
        "from tensorflow.keras.layers import Conv1D, LSTM, Dense, Add, Activation, Input\n",
        "\n",
        "\n",
        "# Input layer\n",
        "input_layer = Input(shape=input_shape)\n",
        "\n",
        "# Convolutional Neural Network (CNN) layer\n",
        "num_filters = 64\n",
        "kernel_size = 3\n",
        "cnn_output = Conv1D(filters=num_filters, kernel_size=kernel_size, activation='relu', padding='same')(input_layer)\n",
        "\n",
        "# Residual connection for CNN\n",
        "residual_cnn = Conv1D(filters=num_filters, kernel_size=kernel_size, activation='linear', padding='same')(cnn_output)\n",
        "cnn_output = Add()([cnn_output, residual_cnn])\n",
        "cnn_output = Activation('relu')(cnn_output)\n",
        "\n",
        "# LSTM Layer\n",
        "num_lstm_units = 64\n",
        "lstm_output = LSTM(num_lstm_units, return_sequences=False)(cnn_output)\n",
        "\n",
        "# Residual connection for LSTM\n",
        "residual_lstm = Dense(num_lstm_units, activation='linear')(lstm_output)\n",
        "lstm_output = Add()([lstm_output, residual_lstm])\n",
        "lstm_output = Activation('relu')(lstm_output)\n",
        "\n",
        "# Fully connected layers\n",
        "dense1 = Dense(64, activation='relu')(lstm_output)\n",
        "dense2 = Dense(32, activation='relu')(dense1)\n",
        "\n",
        "# Output layer\n",
        "output_layer = Dense(n_classes, activation='softmax')(dense2)\n",
        "\n",
        "# Create the model\n",
        "model2 = Model(inputs=input_layer, outputs=output_layer)\n",
        "\n",
        "# Compile the model\n",
        "model2.compile(loss='categorical_crossentropy', optimizer='adam', metrics=['accuracy'])\n",
        "\n",
        "# Display the model summary\n",
        "model2.summary()\n"
      ],
      "metadata": {
        "colab": {
          "base_uri": "https://localhost:8080/"
        },
        "id": "Au-I4Vzc1vsI",
        "outputId": "5f5b86ff-c183-4fb6-dd89-792c31fcf288"
      },
      "execution_count": 44,
      "outputs": [
        {
          "output_type": "stream",
          "name": "stdout",
          "text": [
            "Model: \"model\"\n",
            "__________________________________________________________________________________________________\n",
            " Layer (type)                   Output Shape         Param #     Connected to                     \n",
            "==================================================================================================\n",
            " input_1 (InputLayer)           [(None, 1, 187)]     0           []                               \n",
            "                                                                                                  \n",
            " conv1d_3 (Conv1D)              (None, 1, 64)        35968       ['input_1[0][0]']                \n",
            "                                                                                                  \n",
            " conv1d_4 (Conv1D)              (None, 1, 64)        12352       ['conv1d_3[0][0]']               \n",
            "                                                                                                  \n",
            " add (Add)                      (None, 1, 64)        0           ['conv1d_3[0][0]',               \n",
            "                                                                  'conv1d_4[0][0]']               \n",
            "                                                                                                  \n",
            " activation (Activation)        (None, 1, 64)        0           ['add[0][0]']                    \n",
            "                                                                                                  \n",
            " lstm (LSTM)                    (None, 64)           33024       ['activation[0][0]']             \n",
            "                                                                                                  \n",
            " dense_4 (Dense)                (None, 64)           4160        ['lstm[0][0]']                   \n",
            "                                                                                                  \n",
            " add_1 (Add)                    (None, 64)           0           ['lstm[0][0]',                   \n",
            "                                                                  'dense_4[0][0]']                \n",
            "                                                                                                  \n",
            " activation_1 (Activation)      (None, 64)           0           ['add_1[0][0]']                  \n",
            "                                                                                                  \n",
            " dense_5 (Dense)                (None, 64)           4160        ['activation_1[0][0]']           \n",
            "                                                                                                  \n",
            " dense_6 (Dense)                (None, 32)           2080        ['dense_5[0][0]']                \n",
            "                                                                                                  \n",
            " dense_7 (Dense)                (None, 5)            165         ['dense_6[0][0]']                \n",
            "                                                                                                  \n",
            "==================================================================================================\n",
            "Total params: 91,909\n",
            "Trainable params: 91,909\n",
            "Non-trainable params: 0\n",
            "__________________________________________________________________________________________________\n"
          ]
        }
      ]
    },
    {
      "cell_type": "code",
      "source": [
        "from IPython.display import Image, display\n",
        "from keras.utils.vis_utils import model_to_dot\n",
        "import pydot\n",
        "\n",
        "# Create a Dot object for the model\n",
        "dot = model_to_dot(model2)\n",
        "\n",
        "# Modify the Dot object to set the horizontal layout\n",
        "dot.set_rankdir('LR')\n",
        "\n",
        "# Convert Dot object to PNG image using Graphviz\n",
        "png_image = dot.create_png()\n",
        "\n",
        "# Display the image using IPython.display\n",
        "display(Image(png_image))\n"
      ],
      "metadata": {
        "colab": {
          "base_uri": "https://localhost:8080/",
          "height": 114
        },
        "id": "mLHklDH8v1dG",
        "outputId": "7a1712f6-4d9d-49b8-8927-7c6a0740d8aa"
      },
      "execution_count": 45,
      "outputs": [
        {
          "output_type": "display_data",
          "data": {
            "image/png": "[encoded data removed]",
            "text/plain": [
              "<IPython.core.display.Image object>"
            ]
          },
          "metadata": {}
        }
      ]
    },
    {
      "cell_type": "code",
      "source": [
        "batch_size = 16\n",
        "\n",
        "history2 = model2.fit(X_train, y_train, batch_size=batch_size,epochs=25,validation_data=(X_val, y_val))"
      ],
      "metadata": {
        "colab": {
          "base_uri": "https://localhost:8080/"
        },
        "id": "C02-SRu-JkY5",
        "outputId": "627cc680-866e-4e6c-d775-5fe313d0820d"
      },
      "execution_count": 46,
      "outputs": [
        {
          "output_type": "stream",
          "name": "stdout",
          "text": [
            "Epoch 1/25\n",
            "4378/4378 [==============================] - 29s 6ms/step - loss: 0.2953 - accuracy: 0.9191 - val_loss: 0.1812 - val_accuracy: 0.9525\n",
            "Epoch 2/25\n",
            "4378/4378 [==============================] - 27s 6ms/step - loss: 0.1692 - accuracy: 0.9529 - val_loss: 0.1659 - val_accuracy: 0.9547\n",
            "Epoch 3/25\n",
            "4378/4378 [==============================] - 25s 6ms/step - loss: 0.1388 - accuracy: 0.9616 - val_loss: 0.1291 - val_accuracy: 0.9661\n",
            "Epoch 4/25\n",
            "4378/4378 [==============================] - 28s 6ms/step - loss: 0.1220 - accuracy: 0.9657 - val_loss: 0.1242 - val_accuracy: 0.9645\n",
            "Epoch 5/25\n",
            "4378/4378 [==============================] - 29s 7ms/step - loss: 0.1111 - accuracy: 0.9686 - val_loss: 0.1163 - val_accuracy: 0.9694\n",
            "Epoch 6/25\n",
            "4378/4378 [==============================] - 28s 6ms/step - loss: 0.1013 - accuracy: 0.9710 - val_loss: 0.1237 - val_accuracy: 0.9643\n",
            "Epoch 7/25\n",
            "4378/4378 [==============================] - 35s 8ms/step - loss: 0.0941 - accuracy: 0.9725 - val_loss: 0.1286 - val_accuracy: 0.9655\n",
            "Epoch 8/25\n",
            "4378/4378 [==============================] - 30s 7ms/step - loss: 0.0875 - accuracy: 0.9746 - val_loss: 0.1085 - val_accuracy: 0.9678\n",
            "Epoch 9/25\n",
            "4378/4378 [==============================] - 32s 7ms/step - loss: 0.0820 - accuracy: 0.9762 - val_loss: 0.1162 - val_accuracy: 0.9688\n",
            "Epoch 10/25\n",
            "4378/4378 [==============================] - 31s 7ms/step - loss: 0.0768 - accuracy: 0.9773 - val_loss: 0.1132 - val_accuracy: 0.9690\n",
            "Epoch 11/25\n",
            "4378/4378 [==============================] - 31s 7ms/step - loss: 0.0733 - accuracy: 0.9779 - val_loss: 0.1069 - val_accuracy: 0.9710\n",
            "Epoch 12/25\n",
            "4378/4378 [==============================] - 34s 8ms/step - loss: 0.0683 - accuracy: 0.9791 - val_loss: 0.1095 - val_accuracy: 0.9716\n",
            "Epoch 13/25\n",
            "4378/4378 [==============================] - 30s 7ms/step - loss: 0.0650 - accuracy: 0.9804 - val_loss: 0.1425 - val_accuracy: 0.9542\n",
            "Epoch 14/25\n",
            "4378/4378 [==============================] - 30s 7ms/step - loss: 0.0611 - accuracy: 0.9811 - val_loss: 0.1045 - val_accuracy: 0.9718\n",
            "Epoch 15/25\n",
            "4378/4378 [==============================] - 30s 7ms/step - loss: 0.0580 - accuracy: 0.9822 - val_loss: 0.1063 - val_accuracy: 0.9712\n",
            "Epoch 16/25\n",
            "4378/4378 [==============================] - 30s 7ms/step - loss: 0.0572 - accuracy: 0.9818 - val_loss: 0.1211 - val_accuracy: 0.9716\n",
            "Epoch 17/25\n",
            "4378/4378 [==============================] - 30s 7ms/step - loss: 0.0547 - accuracy: 0.9830 - val_loss: 0.1145 - val_accuracy: 0.9717\n",
            "Epoch 18/25\n",
            "4378/4378 [==============================] - 34s 8ms/step - loss: 0.0514 - accuracy: 0.9837 - val_loss: 0.1168 - val_accuracy: 0.9732\n",
            "Epoch 19/25\n",
            "4378/4378 [==============================] - 28s 6ms/step - loss: 0.0515 - accuracy: 0.9840 - val_loss: 0.1233 - val_accuracy: 0.9741\n",
            "Epoch 20/25\n",
            "4378/4378 [==============================] - 28s 6ms/step - loss: 0.0495 - accuracy: 0.9844 - val_loss: 0.1157 - val_accuracy: 0.9720\n",
            "Epoch 21/25\n",
            "4378/4378 [==============================] - 29s 7ms/step - loss: 0.0470 - accuracy: 0.9850 - val_loss: 0.1349 - val_accuracy: 0.9682\n",
            "Epoch 22/25\n",
            "4378/4378 [==============================] - 31s 7ms/step - loss: 0.0468 - accuracy: 0.9859 - val_loss: 0.1205 - val_accuracy: 0.9732\n",
            "Epoch 23/25\n",
            "4378/4378 [==============================] - 29s 7ms/step - loss: 0.0443 - accuracy: 0.9856 - val_loss: 0.1174 - val_accuracy: 0.9748\n",
            "Epoch 24/25\n",
            "4378/4378 [==============================] - 29s 7ms/step - loss: 0.0430 - accuracy: 0.9862 - val_loss: 0.1357 - val_accuracy: 0.9705\n",
            "Epoch 25/25\n",
            "4378/4378 [==============================] - 30s 7ms/step - loss: 0.0424 - accuracy: 0.9865 - val_loss: 0.1296 - val_accuracy: 0.9744\n"
          ]
        }
      ]
    },
    {
      "cell_type": "code",
      "source": [
        "# list all data in history\n",
        "print(history2.history.keys())"
      ],
      "metadata": {
        "colab": {
          "base_uri": "https://localhost:8080/"
        },
        "id": "XUSl3KtjOFwd",
        "outputId": "ecaef334-8849-45ff-8187-5a31cfd89e1c"
      },
      "execution_count": 47,
      "outputs": [
        {
          "output_type": "stream",
          "name": "stdout",
          "text": [
            "dict_keys(['loss', 'accuracy', 'val_loss', 'val_accuracy'])\n"
          ]
        }
      ]
    },
    {
      "cell_type": "code",
      "source": [
        "# summarize history for accuracy\n",
        "plt.plot(history2.history['accuracy'])\n",
        "plt.plot(history2.history['val_accuracy'])\n",
        "plt.title('model accuracy')\n",
        "plt.ylabel('accuracy')\n",
        "plt.xlabel('epoch')\n",
        "plt.legend(['train', 'validation'], loc='upper left')\n",
        "plt.show()"
      ],
      "metadata": {
        "colab": {
          "base_uri": "https://localhost:8080/",
          "height": 472
        },
        "id": "IeGei3__OK4v",
        "outputId": "fd3adc2a-266d-41f4-ebf1-1ed4433b2500"
      },
      "execution_count": 48,
      "outputs": [
        {
          "output_type": "display_data",
          "data": {
            "text/plain": [
              "<Figure size 640x480 with 1 Axes>"
            ],
            "image/png": "[encoded data removed]"
          },
          "metadata": {}
        }
      ]
    },
    {
      "cell_type": "code",
      "source": [
        "# summarize history for loss\n",
        "plt.plot(history2.history['loss'])\n",
        "plt.plot(history2.history['val_loss'])\n",
        "plt.title('model loss')\n",
        "plt.ylabel('loss')\n",
        "plt.xlabel('epoch')\n",
        "plt.legend(['train', 'validation'], loc='upper left')\n",
        "plt.show()"
      ],
      "metadata": {
        "colab": {
          "base_uri": "https://localhost:8080/",
          "height": 472
        },
        "id": "1uROu1WNOXab",
        "outputId": "e9b01486-f732-4aab-82a6-9f47c67426e1"
      },
      "execution_count": 49,
      "outputs": [
        {
          "output_type": "display_data",
          "data": {
            "text/plain": [
              "<Figure size 640x480 with 1 Axes>"
            ],
            "image/png": "[encoded data removed]"
          },
          "metadata": {}
        }
      ]
    },
    {
      "cell_type": "code",
      "source": [
        "import numpy as np\n",
        "import tensorflow as tf\n",
        "from datetime import datetime\n",
        "\n",
        "start_time = datetime.now()\n",
        "y_pred = model2.predict(X_test)\n",
        "end_time = datetime.now()\n",
        "y_pred\n",
        "\n",
        "testing_time = end_time - start_time\n",
        "print(f\"Testing time: {testing_time}\")"
      ],
      "metadata": {
        "colab": {
          "base_uri": "https://localhost:8080/"
        },
        "id": "KQqaBFGlOiuf",
        "outputId": "c4718408-1827-4e3b-f1fe-1119ae58b87e"
      },
      "execution_count": 50,
      "outputs": [
        {
          "output_type": "stream",
          "name": "stdout",
          "text": [
            "685/685 [==============================] - 2s 2ms/step\n",
            "Testing time: 0:00:02.352887\n"
          ]
        }
      ]
    },
    {
      "cell_type": "code",
      "source": [
        "y_pred = y_pred.argmax(axis=1)\n",
        "y_pred"
      ],
      "metadata": {
        "colab": {
          "base_uri": "https://localhost:8080/"
        },
        "id": "mcEDqhIOOqe1",
        "outputId": "64c0100e-9941-4b18-fee1-c1aec2f9fdca"
      },
      "execution_count": 51,
      "outputs": [
        {
          "output_type": "execute_result",
          "data": {
            "text/plain": [
              "array([0, 0, 0, ..., 4, 4, 4])"
            ]
          },
          "metadata": {},
          "execution_count": 51
        }
      ]
    },
    {
      "cell_type": "code",
      "source": [
        "#y_test = y_test.argmax(axis=1)\n",
        "#y_test"
      ],
      "metadata": {
        "id": "r5Jx224cOuhB"
      },
      "execution_count": 52,
      "outputs": []
    },
    {
      "cell_type": "code",
      "source": [
        "def show_confusion_matrix(confusion_matrix):\n",
        "  plt.figure(figsize=(12,6))\n",
        "  hmap = sns.heatmap(confusion_matrix, annot=True, fmt=\"d\", cmap=\"viridis\")\n",
        "  hmap.yaxis.set_ticklabels(hmap.yaxis.get_ticklabels(),rotation=0, ha='right')\n",
        "  hmap.xaxis.set_ticklabels(hmap.xaxis.get_ticklabels(),rotation=0, ha='right')\n",
        "  plt.ylabel('True sentiment')\n",
        "  plt.xlabel('Predicted sentiment')\n",
        "cm = confusion_matrix(y_test, y_pred)\n",
        "df_cm = pd.DataFrame(cm, index=class_names, columns=class_names)\n",
        "show_confusion_matrix(df_cm)"
      ],
      "metadata": {
        "colab": {
          "base_uri": "https://localhost:8080/",
          "height": 542
        },
        "id": "YCG7UFdRO9ra",
        "outputId": "360010d8-981d-4569-9047-4cfb6e2a5d9b"
      },
      "execution_count": 53,
      "outputs": [
        {
          "output_type": "display_data",
          "data": {
            "text/plain": [
              "<Figure size 1200x600 with 2 Axes>"
            ],
            "image/png": "[encoded data removed]"
          },
          "metadata": {}
        }
      ]
    },
    {
      "cell_type": "code",
      "source": [
        "class_report= classification_report(y_test, y_pred)\n",
        "print(class_report)"
      ],
      "metadata": {
        "colab": {
          "base_uri": "https://localhost:8080/"
        },
        "id": "46apLVGjPFDO",
        "outputId": "14395d28-4c9e-49f9-c3e3-7451f63fc1f6"
      },
      "execution_count": 54,
      "outputs": [
        {
          "output_type": "stream",
          "name": "stdout",
          "text": [
            "              precision    recall  f1-score   support\n",
            "\n",
            "           0       0.98      0.99      0.99     18118\n",
            "           1       0.88      0.68      0.77       556\n",
            "           2       0.92      0.95      0.94      1448\n",
            "           3       0.80      0.65      0.72       162\n",
            "           4       0.98      0.98      0.98      1608\n",
            "\n",
            "    accuracy                           0.98     21892\n",
            "   macro avg       0.91      0.85      0.88     21892\n",
            "weighted avg       0.98      0.98      0.98     21892\n",
            "\n"
          ]
        }
      ]
    },
    {
      "cell_type": "code",
      "source": [
        "\n",
        "\n"
      ],
      "metadata": {
        "id": "6S0e7VUTQLs2"
      },
      "execution_count": 54,
      "outputs": []
    }
  ]
}